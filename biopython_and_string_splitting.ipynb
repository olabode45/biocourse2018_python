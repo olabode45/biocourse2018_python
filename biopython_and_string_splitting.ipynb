{
 "cells": [
  {
   "cell_type": "code",
   "execution_count": 4,
   "metadata": {},
   "outputs": [
    {
     "data": {
      "text/plain": [
       "'/home/pvh/data'"
      ]
     },
     "execution_count": 4,
     "metadata": {},
     "output_type": "execute_result"
    }
   ],
   "source": [
    "pwd"
   ]
  },
  {
   "cell_type": "code",
   "execution_count": 5,
   "metadata": {},
   "outputs": [
    {
     "name": "stdout",
     "output_type": "stream",
     "text": [
      "python.fasta\n"
     ]
    }
   ],
   "source": [
    "ls python.fasta"
   ]
  },
  {
   "cell_type": "code",
   "execution_count": 16,
   "metadata": {},
   "outputs": [],
   "source": [
    "from Bio import SeqIO\n",
    "# documentation: http://biopython.org/wiki/SeqIO"
   ]
  },
  {
   "cell_type": "code",
   "execution_count": 14,
   "metadata": {},
   "outputs": [
    {
     "name": "stdout",
     "output_type": "stream",
     "text": [
      "parser: <generator object parse at 0x7f4f38208620>\n"
     ]
    }
   ],
   "source": [
    "parser = SeqIO.parse(\"python.fasta\", \"fasta\")\n",
    "print(\"parser:\", parser)"
   ]
  },
  {
   "cell_type": "code",
   "execution_count": 40,
   "metadata": {},
   "outputs": [
    {
     "name": "stdout",
     "output_type": "stream",
     "text": [
      "gi|2765658|emb|Z78533.1|CIZ78533 C.irapeanum 5.8S rRNA gene and ITS1 and ITS2 DNA\n",
      "CGTAACAAGGTTTCCGTAGG\n",
      "gi|2765657|emb|Z78532.1|CCZ78532 C.californicum 5.8S rRNA gene and ITS1 and ITS2 DNA\n",
      "CGTAACAAGGTTTCCGTAGG\n",
      "gi|2765656|emb|Z78531.1|CFZ78531 C.fasciculatum 5.8S rRNA gene and ITS1 and ITS2 DNA\n",
      "CGTAACAAGGTTTCCGTAGG\n",
      "gi|2765655|emb|Z78530.1|CMZ78530 C.margaritaceum 5.8S rRNA gene and ITS1 and ITS2 DNA\n",
      "CGTAACAAGGTTTCCGTAGG\n",
      "gi|2765654|emb|Z78529.1|CLZ78529 C.lichiangense 5.8S rRNA gene and ITS1 and ITS2 DNA\n",
      "ACGGCGAGCTGCCGAAGGAC\n",
      "gi|2765652|emb|Z78527.1|CYZ78527 C.yatabeanum 5.8S rRNA gene and ITS1 and ITS2 DNA\n",
      "CGTAACAAGGTTTCCGTAGG\n",
      "gi|2765651|emb|Z78526.1|CGZ78526 C.guttatum 5.8S rRNA gene and ITS1 and ITS2 DNA\n",
      "CGTAACAAGGTTTCCGTAGG\n",
      "gi|2765650|emb|Z78525.1|CAZ78525 C.acaule 5.8S rRNA gene and ITS1 and ITS2 DNA\n",
      "TGTTGAGATAGCAGAATATA\n",
      "gi|2765649|emb|Z78524.1|CFZ78524 C.formosanum 5.8S rRNA gene and ITS1 and ITS2 DNA\n",
      "CGTAACAAGGTTTCCGTAGG\n",
      "gi|2765648|emb|Z78523.1|CHZ78523 C.himalaicum 5.8S rRNA gene and ITS1 and ITS2 DNA\n",
      "CGTAACCAGGTTTCCGTAGG\n",
      "gi|2765647|emb|Z78522.1|CMZ78522 C.macranthum 5.8S rRNA gene and ITS1 and ITS2 DNA\n",
      "CGTAACAAGGTTTCCGTAGG\n",
      "gi|2765646|emb|Z78521.1|CCZ78521 C.calceolus 5.8S rRNA gene and ITS1 and ITS2 DNA\n",
      "GTAGGTGAACCTGCGGAAGG\n",
      "gi|2765645|emb|Z78520.1|CSZ78520 C.segawai 5.8S rRNA gene and ITS1 and ITS2 DNA\n",
      "CGTAACAAGGTTTCCGTAGG\n",
      "gi|2765644|emb|Z78519.1|CPZ78519 C.pubescens 5.8S rRNA gene and ITS1 and ITS2 DNA\n",
      "ATATGATCGAGTGAATCTGG\n",
      "gi|2765643|emb|Z78518.1|CRZ78518 C.reginae 5.8S rRNA gene and ITS1 and ITS2 DNA\n",
      "CGTAACAAGGTTTCCGTAGG\n",
      "gi|2765642|emb|Z78517.1|CFZ78517 C.flavum 5.8S rRNA gene and ITS1 and ITS2 DNA\n",
      "CGTAACAAGGTTTCCGTAGG\n",
      "gi|2765641|emb|Z78516.1|CPZ78516 C.passerinum 5.8S rRNA gene and ITS1 and ITS2 DNA\n",
      "CGTAACAAGGTTTCCGTAGG\n",
      "I'm finished\n"
     ]
    }
   ],
   "source": [
    "parser = SeqIO.parse(\"python.fasta\", \"fasta\")\n",
    "# SeqRecord\n",
    "# record.id - the ID\n",
    "# record.description - the header line including description\n",
    "# record.seq - the sequence\n",
    "for record in parser:\n",
    "#     print(record.id)\n",
    "    if record.description.find(' C.') == -1:\n",
    "#     if ' C.' not in record.description:\n",
    "        break\n",
    "    print(record.description)\n",
    "#     print(type(record.seq))\n",
    "    print(record.seq[0:20])\n",
    "print(\"I'm finished\")"
   ]
  },
  {
   "cell_type": "code",
   "execution_count": 47,
   "metadata": {},
   "outputs": [
    {
     "data": {
      "text/plain": [
       "'gi|2765658|emb|Z78533.1|CIZ78533'"
      ]
     },
     "execution_count": 47,
     "metadata": {},
     "output_type": "execute_result"
    }
   ],
   "source": [
    "desc = 'gi|2765658|emb|Z78533.1|CIZ78533     C.irapeanum 5.8S rRNA gene and ITS1 and ITS2 DN'\n",
    "desc.split()\n",
    "id = desc.split()[0]\n",
    "id"
   ]
  },
  {
   "cell_type": "code",
   "execution_count": 48,
   "metadata": {},
   "outputs": [
    {
     "data": {
      "text/plain": [
       "['gi', '2765658', 'emb', 'Z78533.1', 'CIZ78533']"
      ]
     },
     "execution_count": 48,
     "metadata": {},
     "output_type": "execute_result"
    }
   ],
   "source": [
    "id.split('|')"
   ]
  },
  {
   "cell_type": "code",
   "execution_count": 49,
   "metadata": {},
   "outputs": [
    {
     "data": {
      "text/plain": [
       "['gi|2765658|emb|Z78533.1|CIZ78533',\n",
       " '',\n",
       " '',\n",
       " '',\n",
       " '',\n",
       " 'C.irapeanum',\n",
       " '5.8S',\n",
       " 'rRNA',\n",
       " 'gene',\n",
       " 'and',\n",
       " 'ITS1',\n",
       " 'and',\n",
       " 'ITS2',\n",
       " 'DN']"
      ]
     },
     "execution_count": 49,
     "metadata": {},
     "output_type": "execute_result"
    }
   ],
   "source": [
    "desc.split(' ')"
   ]
  },
  {
   "cell_type": "code",
   "execution_count": 51,
   "metadata": {},
   "outputs": [
    {
     "data": {
      "text/plain": [
       "['CGTAAC', 'TTTCCGTAGG']"
      ]
     },
     "execution_count": 51,
     "metadata": {},
     "output_type": "execute_result"
    }
   ],
   "source": [
    "seq =  'CGTAACAAGGTTTCCGTAGG' # split delimeter can be more than 1 char\n",
    "seq.split('AAGG')"
   ]
  },
  {
   "cell_type": "code",
   "execution_count": 54,
   "metadata": {},
   "outputs": [
    {
     "name": "stdout",
     "output_type": "stream",
     "text": [
      "Z78533.1 C.irapeanum\n",
      "Z78532.1 C.californicum\n",
      "Z78531.1 C.fasciculatum\n",
      "Z78530.1 C.margaritaceum\n",
      "Z78529.1 C.lichiangense\n",
      "Z78527.1 C.yatabeanum\n",
      "Z78526.1 C.guttatum\n",
      "Z78525.1 C.acaule\n",
      "Z78524.1 C.formosanum\n",
      "Z78523.1 C.himalaicum\n",
      "Z78522.1 C.macranthum\n",
      "Z78521.1 C.calceolus\n",
      "Z78520.1 C.segawai\n",
      "Z78519.1 C.pubescens\n",
      "Z78518.1 C.reginae\n",
      "Z78517.1 C.flavum\n",
      "Z78516.1 C.passerinum\n",
      "I'm finished\n"
     ]
    }
   ],
   "source": [
    "parser = SeqIO.parse(\"python.fasta\", \"fasta\")\n",
    "\n",
    "for record in parser:\n",
    "    if record.description.find(' C.') == -1:\n",
    "#     if ' C.' not in record.description:\n",
    "        break\n",
    "    parts = record.description.split()\n",
    "    species  =  parts[1]\n",
    "    if '|' in record.id:\n",
    "        # old style NCBI ID with | characters\n",
    "        id_parts = record.id.split('|')\n",
    "        accession = id_parts[3]\n",
    "    else:\n",
    "        # new style: id is same as accession\n",
    "        accession = record.id\n",
    "    print(accession, species)\n",
    "print(\"I'm finished\")"
   ]
  },
  {
   "cell_type": "code",
   "execution_count": null,
   "metadata": {},
   "outputs": [],
   "source": []
  }
 ],
 "metadata": {
  "kernelspec": {
   "display_name": "Python [Root]",
   "language": "python",
   "name": "Python [Root]"
  },
  "language_info": {
   "codemirror_mode": {
    "name": "ipython",
    "version": 3
   },
   "file_extension": ".py",
   "mimetype": "text/x-python",
   "name": "python",
   "nbconvert_exporter": "python",
   "pygments_lexer": "ipython3",
   "version": "3.5.4"
  }
 },
 "nbformat": 4,
 "nbformat_minor": 2
}
