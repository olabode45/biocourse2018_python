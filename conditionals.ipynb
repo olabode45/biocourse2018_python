{
 "cells": [
  {
   "cell_type": "code",
   "execution_count": 21,
   "metadata": {},
   "outputs": [
    {
     "name": "stdout",
     "output_type": "stream",
     "text": [
      "My number should have 2 digits: 03\n",
      "My number should have 2 digits: 11\n",
      "I want to show 2 decimal digits 3.14\n",
      "I have 3 apples and they are juicy\n",
      "I have 3 apples amd they are juicy\n",
      "PI is 3.14\n"
     ]
    }
   ],
   "source": [
    "# a note on format strings:\n",
    "# https://pyformat.info/\n",
    "# and https://docs.python.org/2/library/stdtypes.html#string-formatting\n",
    "age = 16\n",
    "\"Hello my age is %d today\" % (age)\n",
    "# some common format specifiers\n",
    "# %d - integer\n",
    "# %f - float\n",
    "# %s - string\n",
    "# and extra\n",
    "# %02d - 0 padded to 2 positions\n",
    "number = 3\n",
    "print(\"My number should have 2 digits: %02d\" %  (number))\n",
    "number = 11\n",
    "print(\"My number should have 2 digits: %02d\" %  (number))\n",
    "# for float values %.2f means 2 decimal digits\n",
    "number = 3.14159\n",
    "print(\"I want to show 2 decimal digits %.2f\" % (number))\n",
    "# can put more than one variable into a string\n",
    "mystring = \"I have %d %s and they are %s\" % (3, \"apples\", \"juicy\")\n",
    "print(mystring)\n",
    "# new style templating\n",
    "mystring = \"I have {} {} amd they are {}\".format(3, \"apples\", \"juicy\")\n",
    "print(mystring)\n",
    "mystring = \"PI is {:2.2f}\".format(3.14159)\n",
    "print(mystring)"
   ]
  },
  {
   "cell_type": "code",
   "execution_count": 22,
   "metadata": {},
   "outputs": [
    {
     "name": "stdout",
     "output_type": "stream",
     "text": [
      "If it is Wednesday then it must be time to talk about conditionals\n"
     ]
    }
   ],
   "source": [
    "day = \"Wednesday\"\n",
    "if day == \"Wednesday\":\n",
    "    print(\"If it is {} then it must be time to talk about conditionals\".format(day))"
   ]
  },
  {
   "cell_type": "code",
   "execution_count": 23,
   "metadata": {},
   "outputs": [],
   "source": [
    "# comparison operators\n",
    "# == - equal to\n",
    "# < - less than\n",
    "# > - greater than\n",
    "# <= - less than or equal to\n",
    "# >= - greater than or equal to"
   ]
  },
  {
   "cell_type": "code",
   "execution_count": 25,
   "metadata": {},
   "outputs": [
    {
     "name": "stdout",
     "output_type": "stream",
     "text": [
      "True <class 'bool'>\n"
     ]
    }
   ],
   "source": [
    "# bool is short for Boolean\n",
    "# https://en.wikipedia.org/wiki/Boolean\n",
    "age = 13\n",
    "true_or_false = age < 16\n",
    "print(true_or_false, type(true_or_false))"
   ]
  },
  {
   "cell_type": "code",
   "execution_count": 29,
   "metadata": {},
   "outputs": [
    {
     "name": "stdout",
     "output_type": "stream",
     "text": [
      "False\n",
      "True\n",
      "True\n"
     ]
    }
   ],
   "source": [
    "# most types can be converted to a bool\n",
    "mylist = []\n",
    "is_it_true = bool(mylist)\n",
    "print(is_it_true)\n",
    "mylist = [1]\n",
    "is_it_true = bool(mylist)\n",
    "print(is_it_true)\n",
    "mylist = [1, 5, \"apple\"]\n",
    "is_it_true = bool(mylist)\n",
    "print(is_it_true)"
   ]
  },
  {
   "cell_type": "code",
   "execution_count": 31,
   "metadata": {},
   "outputs": [
    {
     "name": "stdout",
     "output_type": "stream",
     "text": [
      "Yes the list has more than 2 elements\n",
      "The list also has at least 3 elements\n"
     ]
    }
   ],
   "source": [
    "fruits = [\"apple\", \"pear\", \"banana\"]\n",
    "if len(fruits) > 2:\n",
    "    print(\"Yes the list has more than 2 elements\")\n",
    "    if len(fruits) >= 3:\n",
    "        print(\"The list also has at least 3 elements\")"
   ]
  },
  {
   "cell_type": "code",
   "execution_count": 32,
   "metadata": {},
   "outputs": [
    {
     "name": "stdout",
     "output_type": "stream",
     "text": [
      "Yes the list has more than 2 elements\n",
      "The list also has at least 1 element\n"
     ]
    }
   ],
   "source": [
    "fruits = [\"apple\", \"pear\", \"banana\"]\n",
    "if len(fruits) > 2:\n",
    "    print(\"Yes the list has more than 2 elements\")\n",
    "    if len(fruits) > 0:\n",
    "        print(\"The list also has at least 1 element\")"
   ]
  },
  {
   "cell_type": "code",
   "execution_count": 33,
   "metadata": {},
   "outputs": [],
   "source": [
    "# an illogical combination\n",
    "fruits = [\"apple\"]\n",
    "if len(fruits) > 2:\n",
    "    print(\"Yes the list has more than 2 elements\")\n",
    "    if len(fruits) > 0:\n",
    "        print(\"The list also has at least 1 element\")"
   ]
  },
  {
   "cell_type": "code",
   "execution_count": 34,
   "metadata": {},
   "outputs": [
    {
     "name": "stdout",
     "output_type": "stream",
     "text": [
      "The list also has at least 1 element\n"
     ]
    }
   ],
   "source": [
    "fruits = [\"apple\"]\n",
    "if len(fruits) > 2:\n",
    "    print(\"Yes the list has more than 2 elements\")\n",
    "if len(fruits) > 0:\n",
    "    print(\"The list also has at least 1 element\")"
   ]
  },
  {
   "cell_type": "code",
   "execution_count": 35,
   "metadata": {},
   "outputs": [
    {
     "name": "stdout",
     "output_type": "stream",
     "text": [
      "University of the Western Cape\n"
     ]
    }
   ],
   "source": [
    "university = \"UWC\"\n",
    "if university == \"UWC\":\n",
    "    print(\"University of the Western Cape\")\n",
    "else:\n",
    "    print(\"Not UWC\")"
   ]
  },
  {
   "cell_type": "code",
   "execution_count": 37,
   "metadata": {},
   "outputs": [
    {
     "name": "stdout",
     "output_type": "stream",
     "text": [
      "University of Cape Town\n"
     ]
    }
   ],
   "source": [
    "university = \"UCT\"\n",
    "if university == \"UWC\":\n",
    "    print(\"University of the Western Cape\")\n",
    "elif university == \"UCT\":\n",
    "    print(\"University of Cape Town\")\n",
    "elif university == \"SUN\":\n",
    "    print(\"Stellenbosch University\")\n",
    "else:\n",
    "    print(\"Unknown university\")"
   ]
  },
  {
   "cell_type": "code",
   "execution_count": 38,
   "metadata": {},
   "outputs": [
    {
     "name": "stdout",
     "output_type": "stream",
     "text": [
      "Length is not equal to 1\n"
     ]
    }
   ],
   "source": [
    "fruits = [\"apple\", \"pear\", \"banana\"]\n",
    "if len(fruits) == 1:\n",
    "    print(\"Yes, is equal to 1\")\n",
    "else:\n",
    "    print(\"Length is not equal to 1\")"
   ]
  },
  {
   "cell_type": "code",
   "execution_count": 39,
   "metadata": {},
   "outputs": [
    {
     "ename": "SyntaxError",
     "evalue": "invalid syntax (<ipython-input-39-cab33e9bb2f4>, line 2)",
     "output_type": "error",
     "traceback": [
      "\u001b[0;36m  File \u001b[0;32m\"<ipython-input-39-cab33e9bb2f4>\"\u001b[0;36m, line \u001b[0;32m2\u001b[0m\n\u001b[0;31m    if len(fruits) = 1:\u001b[0m\n\u001b[0m                   ^\u001b[0m\n\u001b[0;31mSyntaxError\u001b[0m\u001b[0;31m:\u001b[0m invalid syntax\n"
     ]
    }
   ],
   "source": [
    "fruits = [\"apple\", \"pear\", \"banana\"]\n",
    "if len(fruits) = 1:\n",
    "    print(\"Yes, is equal to 1\")\n",
    "else:\n",
    "    print(\"Length is not equal to 1\")"
   ]
  },
  {
   "cell_type": "code",
   "execution_count": 40,
   "metadata": {},
   "outputs": [],
   "source": [
    "def dna_complement(base):\n",
    "    if base == 'A':\n",
    "        complement = 'T'\n",
    "    # elif is a contraction of \"else if\"\n",
    "    elif base == 'T':\n",
    "        complement = 'A'\n",
    "    elif base == 'C':\n",
    "        complement = 'G'\n",
    "    elif base == 'G':\n",
    "        complement = 'C'\n",
    "    else:\n",
    "        # unknown base - just return it\n",
    "        complement = base\n",
    "    return complement"
   ]
  },
  {
   "cell_type": "code",
   "execution_count": 41,
   "metadata": {},
   "outputs": [
    {
     "data": {
      "text/plain": [
       "'T'"
      ]
     },
     "execution_count": 41,
     "metadata": {},
     "output_type": "execute_result"
    }
   ],
   "source": [
    "dna_complement('A')"
   ]
  },
  {
   "cell_type": "code",
   "execution_count": 43,
   "metadata": {},
   "outputs": [
    {
     "name": "stdout",
     "output_type": "stream",
     "text": [
      "This is just like my and statement\n"
     ]
    }
   ],
   "source": [
    "# boolean algebra:\n",
    "# or\n",
    "# and\n",
    "# not\n",
    "age = 13\n",
    "age > 10 and age < 20\n",
    "# each boolean algebra operator has a truth table\n",
    "# and\n",
    "# all of the conditions are true\n",
    "# True True -> True\n",
    "# True False -> False\n",
    "# False True -> False\n",
    "# False False -> False\n",
    "if age > 10:\n",
    "    if age < 20:\n",
    "        print(\"This is just like my and statement\")"
   ]
  },
  {
   "cell_type": "code",
   "execution_count": 46,
   "metadata": {},
   "outputs": [
    {
     "data": {
      "text/plain": [
       "False"
      ]
     },
     "execution_count": 46,
     "metadata": {},
     "output_type": "execute_result"
    }
   ],
   "source": [
    "# or\n",
    "# any of the conditions is true\n",
    "# True True -> True\n",
    "# True False -> True\n",
    "# False True -> True\n",
    "# False False -> False\n",
    "age < 10 or age > 20"
   ]
  },
  {
   "cell_type": "code",
   "execution_count": 49,
   "metadata": {},
   "outputs": [
    {
     "name": "stdout",
     "output_type": "stream",
     "text": [
      "Can I do something to cheer you up?\n"
     ]
    }
   ],
   "source": [
    "# not\n",
    "# True -> False\n",
    "# False -> True\n",
    "mood = \"sad\"\n",
    "if not mood == \"happy\":\n",
    "    print(\"Can I do something to cheer you up?\")"
   ]
  },
  {
   "cell_type": "code",
   "execution_count": 51,
   "metadata": {},
   "outputs": [
    {
     "name": "stdout",
     "output_type": "stream",
     "text": [
      "True\n",
      "False\n"
     ]
    }
   ],
   "source": [
    "# string \"in\" operator\n",
    "# tests for string in  a string\n",
    "search_string = \"day\"\n",
    "text = \"Monday\"\n",
    "print(search_string in text)\n",
    "text = \"February\"\n",
    "print(search_string in text)"
   ]
  },
  {
   "cell_type": "code",
   "execution_count": 53,
   "metadata": {},
   "outputs": [
    {
     "name": "stdout",
     "output_type": "stream",
     "text": [
      "True\n",
      "False\n"
     ]
    }
   ],
   "source": [
    "# list \"in\" operator\n",
    "known_bases = ['A', 'C', 'T', 'G']\n",
    "print(\"A\" in known_bases)\n",
    "print(\"a\" in known_bases)"
   ]
  },
  {
   "cell_type": "code",
   "execution_count": 56,
   "metadata": {},
   "outputs": [
    {
     "name": "stdout",
     "output_type": "stream",
     "text": [
      "False\n",
      "search each element in turn\n",
      "Monday\n",
      "Wednesday\n"
     ]
    }
   ],
   "source": [
    "strings = [\"Monday\", \"Wednesday\", \"March\"]\n",
    "print(\"day\" in strings)\n",
    "print('search each element in turn')\n",
    "for mystring in strings:\n",
    "    if \"day\" in mystring:\n",
    "        print(mystring)"
   ]
  },
  {
   "cell_type": "code",
   "execution_count": null,
   "metadata": {},
   "outputs": [],
   "source": []
  }
 ],
 "metadata": {
  "kernelspec": {
   "display_name": "Python [Root]",
   "language": "python",
   "name": "Python [Root]"
  },
  "language_info": {
   "codemirror_mode": {
    "name": "ipython",
    "version": 3
   },
   "file_extension": ".py",
   "mimetype": "text/x-python",
   "name": "python",
   "nbconvert_exporter": "python",
   "pygments_lexer": "ipython3",
   "version": "3.5.4"
  }
 },
 "nbformat": 4,
 "nbformat_minor": 2
}
