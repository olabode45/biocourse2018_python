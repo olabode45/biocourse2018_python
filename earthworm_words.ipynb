{
 "cells": [
  {
   "cell_type": "code",
   "execution_count": 9,
   "metadata": {},
   "outputs": [
    {
     "name": "stdout",
     "output_type": "stream",
     "text": [
      "Writing earthworm.py\n"
     ]
    }
   ],
   "source": [
    "%%writefile earthworm.py\n",
    "import string\n",
    "import requests\n",
    "from io import StringIO\n",
    "\n",
    "url = 'https://raw.githubusercontent.com/pvanheus/biocourse2018_python/master/darwin_earthworms.txt'\n",
    "\n",
    "def get_page(url):\n",
    "    response = requests.get(url)\n",
    "    if response:\n",
    "        page = StringIO(response.text)\n",
    "    else:\n",
    "        page = StringIO('')\n",
    "    return page\n",
    "\n",
    "L_SQUOTE = \"\\u2018\"\n",
    "R_SQUOTE = \"\\u2019\"\n",
    "L_DQUOTE = \"\\u201C\"\n",
    "R_DQUOTE = \"\\u201D\"\n",
    "ACUTE = \"\\u00B4\"\n",
    "punctuation = string.punctuation[:-4]\n",
    "punctuation = (punctuation + \"|~\" + L_SQUOTE + R_SQUOTE +\n",
    "               L_DQUOTE + R_DQUOTE + ACUTE)\n",
    "print(punctuation)\n",
    "punctuation_set = set(punctuation)\n",
    "\n",
    "def is_punctuation(char):\n",
    "    if  len(char) == 1 and char in punctuation_set:\n",
    "        return True\n",
    "    else:\n",
    "        return False\n",
    "        \n",
    "def is_word(mystring):\n",
    "    mystring = mystring.strip(punctuation)\n",
    "    if mystring == '':\n",
    "        return False\n",
    "    for character in mystring:\n",
    "        if not character.isalnum() and not character == '-':\n",
    "#         if not (character.isalnum() or character == '-'):\n",
    "            return False\n",
    "    # the loop has finished, everything is a letter or a number\n",
    "    # or punctuation\n",
    "    return True\n",
    "    \n",
    "page = get_page(url)\n",
    "word_count = 0 # make a new basket called word_count and set to 0\n",
    "for line in page:\n",
    "    word_list = line.split() # split the line into a list of words and set word_list to this value\n",
    "    new_word_count = len(word_list) + word_count # count the number of words in word_list and add to word_count\n",
    "    word_count = new_word_count # store the new total word_count in word_count\n",
    "print(\"words in book:\", word_count) #  print the word count\n",
    "\n"
   ]
  },
  {
   "cell_type": "code",
   "execution_count": 3,
   "metadata": {},
   "outputs": [
    {
     "ename": "IndentationError",
     "evalue": "unexpected indent (<ipython-input-3-53719cc0f363>, line 3)",
     "output_type": "error",
     "traceback": [
      "\u001b[0;36m  File \u001b[0;32m\"<ipython-input-3-53719cc0f363>\"\u001b[0;36m, line \u001b[0;32m3\u001b[0m\n\u001b[0;31m    if is_word(word):\u001b[0m\n\u001b[0m    ^\u001b[0m\n\u001b[0;31mIndentationError\u001b[0m\u001b[0;31m:\u001b[0m unexpected indent\n"
     ]
    }
   ],
   "source": [
    "def find_real_words(word_list):\n",
    "    return new_word_list\n",
    "        if is_word(word):\n",
    "    for word in word_list:\n",
    "    new_wrod_list = []\n",
    "            new_word_list = new_word_list.append(word)\n"
   ]
  },
  {
   "cell_type": "code",
   "execution_count": 7,
   "metadata": {},
   "outputs": [],
   "source": [
    "def find_real_words(word_list):\n",
    "    new_word_list = []\n",
    "    for word in word_list:\n",
    "        if is_word(word):\n",
    "            new_word_list.append(word)\n",
    "    return new_word_list\n"
   ]
  },
  {
   "cell_type": "code",
   "execution_count": 8,
   "metadata": {},
   "outputs": [
    {
     "name": "stdout",
     "output_type": "stream",
     "text": [
      "['apple', 'banana', 'pear']\n",
      "['apple', 'banana', 'pear', 'apple', 'banana', 'pear']\n"
     ]
    }
   ],
   "source": [
    "word_list = [\"apple\", \"banana\", \"{2}\", \"pear\", \"*\"]\n",
    "new_word_list = find_real_words(word_list)\n",
    "print(new_word_list)\n",
    "word_list = [\"apple\", \"banana\", \"{2}\", \"pear\"]\n",
    "new_word_list = find_real_words(word_list)\n",
    "print(new_word_list)"
   ]
  },
  {
   "cell_type": "code",
   "execution_count": null,
   "metadata": {},
   "outputs": [],
   "source": [
    "import "
   ]
  },
  {
   "cell_type": "code",
   "execution_count": null,
   "metadata": {},
   "outputs": [],
   "source": []
  }
 ],
 "metadata": {
  "kernelspec": {
   "display_name": "Python [anaconda3]",
   "language": "python",
   "name": "Python [anaconda3]"
  },
  "language_info": {
   "codemirror_mode": {
    "name": "ipython",
    "version": 3
   },
   "file_extension": ".py",
   "mimetype": "text/x-python",
   "name": "python",
   "nbconvert_exporter": "python",
   "pygments_lexer": "ipython3",
   "version": "3.5.4"
  }
 },
 "nbformat": 4,
 "nbformat_minor": 2
}
