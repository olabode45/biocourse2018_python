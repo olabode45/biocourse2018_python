{
 "cells": [
  {
   "cell_type": "code",
   "execution_count": 2,
   "metadata": {},
   "outputs": [],
   "source": [
    "import requests\n",
    "from io import StringIO"
   ]
  },
  {
   "cell_type": "code",
   "execution_count": 29,
   "metadata": {},
   "outputs": [],
   "source": [
    "# url = 'http://www.gutenberg.org/files/2355/2355-0.txt'\n",
    "url = 'https://raw.githubusercontent.com/pvanheus/biocourse2018_python/master/darwin_earthworms.txt'"
   ]
  },
  {
   "cell_type": "code",
   "execution_count": 4,
   "metadata": {},
   "outputs": [],
   "source": [
    "def get_page(url):\n",
    "    response = requests.get(url)\n",
    "    if response:\n",
    "        page = StringIO(response.text)\n",
    "    else:\n",
    "        page = StringIO('')\n",
    "    return page"
   ]
  },
  {
   "cell_type": "code",
   "execution_count": 9,
   "metadata": {},
   "outputs": [
    {
     "name": "stdout",
     "output_type": "stream",
     "text": [
      "﻿The Project Gutenberg eBook, The Formation of Vegetable Mould, by Charles\n",
      "Darwin\n",
      "\n",
      "\n",
      "This eBook is for the use of anyone anywhere in the United States and most\n",
      "other parts of the world at no cost and with almost no restrictions \n",
      "whatsoever.  You may copy it, give it away or re-use it under the terms of\n",
      "the Project Gutenberg License included with this eBook or online at \n",
      "www.gutenberg.org.  If you are not located in the United States, you'll have\n",
      "to check the laws of the country where you are located before using this ebook.\n"
     ]
    }
   ],
   "source": [
    "page = get_page(url)\n",
    "for num in range(10):\n",
    "    line = next(page)\n",
    "    print(line, end='')"
   ]
  },
  {
   "cell_type": "code",
   "execution_count": 12,
   "metadata": {},
   "outputs": [
    {
     "name": "stdout",
     "output_type": "stream",
     "text": [
      "<class 'str'>\n",
      "﻿\n",
      "T\n",
      "h\n",
      "e\n",
      " \n",
      "P\n",
      "r\n",
      "o\n",
      "j\n",
      "e\n"
     ]
    }
   ],
   "source": [
    "response = requests.get(url)\n",
    "print(type(response.text))\n",
    "part = response.text[:10]\n",
    "for element in part:\n",
    "    print(element)"
   ]
  },
  {
   "cell_type": "code",
   "execution_count": 13,
   "metadata": {},
   "outputs": [
    {
     "name": "stdout",
     "output_type": "stream",
     "text": [
      "<Response [200]>\n"
     ]
    }
   ],
   "source": [
    "response = requests.get(url)\n",
    "print(response)"
   ]
  },
  {
   "cell_type": "markdown",
   "metadata": {},
   "source": [
    "    print(\"lines in book:\", count)\n",
    "        count = new_count\n",
    "    foreach line in page:\n",
    "        page = get_XXX(url)\n",
    "    count = 100\n",
    "        new_count = count - 1\n"
   ]
  },
  {
   "cell_type": "code",
   "execution_count": 16,
   "metadata": {},
   "outputs": [
    {
     "name": "stdout",
     "output_type": "stream",
     "text": [
      "lines in book: 6106\n"
     ]
    }
   ],
   "source": [
    "page = get_page(url)\n",
    "count = 0\n",
    "for line in page:\n",
    "    new_count = count + 1\n",
    "    count = new_count\n",
    "print(\"lines in book:\", count)"
   ]
  },
  {
   "cell_type": "code",
   "execution_count": 17,
   "metadata": {},
   "outputs": [
    {
     "name": "stdout",
     "output_type": "stream",
     "text": [
      "380993\n"
     ]
    }
   ],
   "source": [
    "response = requests.get(url)\n",
    "count = 0\n",
    "for element in response.text:\n",
    "    new_count = count + 1\n",
    "    count = new_count\n",
    "print(count)"
   ]
  },
  {
   "cell_type": "code",
   "execution_count": 22,
   "metadata": {},
   "outputs": [
    {
     "name": "stdout",
     "output_type": "stream",
     "text": [
      "EL: b'\\xef\\xbb\\xbfThe Project Gutenberg eBook, The Formation of Vegetable Mould, by Charles\\r\\nDarwin\\r\\n\\r\\n\\r\\nThis eBook is for the use of anyone an' 128\n",
      "EL: b'ywhere in the United States and most\\r\\nother parts of the world at no cost and with almost no restrictions \\r\\nwhatsoever.  You may' 128\n",
      "EL: b' copy it, give it away or re-use it under the terms of\\r\\nthe Project Gutenberg License included with this eBook or online at \\r\\nww' 128\n"
     ]
    }
   ],
   "source": [
    "# ADVANCED TOPIC:\n",
    "# a response object is iterable in chunks of 128 characters\n",
    "response = requests.get(url)\n",
    "response_iter = iter(response)\n",
    "for num in range(3):\n",
    "    element = next(response_iter)\n",
    "    print(\"EL:\", element, len(element))"
   ]
  },
  {
   "cell_type": "code",
   "execution_count": 23,
   "metadata": {},
   "outputs": [
    {
     "data": {
      "text/plain": [
       "2976.5078125"
      ]
     },
     "execution_count": 23,
     "metadata": {},
     "output_type": "execute_result"
    }
   ],
   "source": [
    "380993 / 128\n"
   ]
  },
  {
   "cell_type": "code",
   "execution_count": 25,
   "metadata": {},
   "outputs": [
    {
     "name": "stdout",
     "output_type": "stream",
     "text": [
      "lines in book: 6106\n",
      "characters in book: 380993\n"
     ]
    }
   ],
   "source": [
    "page = get_page(url)\n",
    "count = 0\n",
    "char_count = 0\n",
    "for line in page:\n",
    "    new_count = count + 1\n",
    "    count = new_count\n",
    "    chars_in_line = len(line) \n",
    "    new_char_count = chars_in_line + char_count\n",
    "    char_count = new_char_count\n",
    "#     char_count = chars_in_line + char_count\n",
    "print(\"lines in book:\", count)\n",
    "print(\"characters in book:\", char_count)"
   ]
  },
  {
   "cell_type": "code",
   "execution_count": 30,
   "metadata": {},
   "outputs": [
    {
     "data": {
      "text/plain": [
       "'\\ufeffThe Project Gutenberg eBook, The Formation of Vegetable Mould, by Charles\\r\\nDarwin\\r\\n\\r\\n\\r\\nThis eBook is for the use of anyone anywhere in the United States and most\\r\\nother parts of the world at no cost '"
      ]
     },
     "execution_count": 30,
     "metadata": {},
     "output_type": "execute_result"
    }
   ],
   "source": [
    "response = requests.get(url)\n",
    "response.text[:200]"
   ]
  },
  {
   "cell_type": "code",
   "execution_count": 31,
   "metadata": {},
   "outputs": [
    {
     "data": {
      "text/plain": [
       "b'\\xef\\xbb\\xbfThe Project Gutenberg eBook, The Formation of Vegetable Mould, by Charles\\r\\nDarwin\\r\\n\\r\\n\\r\\nThis eBook is for the use of anyone an'"
      ]
     },
     "execution_count": 31,
     "metadata": {},
     "output_type": "execute_result"
    }
   ],
   "source": [
    "response = requests.get(url)\n",
    "chunk = next(iter(response))\n",
    "chunk"
   ]
  },
  {
   "cell_type": "code",
   "execution_count": 38,
   "metadata": {},
   "outputs": [
    {
     "name": "stdout",
     "output_type": "stream",
     "text": [
      "7\n",
      "21\n"
     ]
    },
    {
     "data": {
      "text/plain": [
       "b'\\xe6\\x8a\\x8a\\xe7\\x99\\xbe\\xe5\\xba\\xa6\\xe8\\xae\\xbe\\xe4\\xb8\\xba\\xe4\\xb8\\xbb\\xe9\\xa1\\xb5'"
      ]
     },
     "execution_count": 38,
     "metadata": {},
     "output_type": "execute_result"
    }
   ],
   "source": [
    "text = '把百度设为主页'\n",
    "print(len(text))\n",
    "bytes = text.encode('UTF-8')\n",
    "print(len(bytes))\n",
    "bytes"
   ]
  },
  {
   "cell_type": "code",
   "execution_count": 39,
   "metadata": {},
   "outputs": [
    {
     "name": "stdout",
     "output_type": "stream",
     "text": [
      "7\n",
      "7\n"
     ]
    },
    {
     "data": {
      "text/plain": [
       "b'Project'"
      ]
     },
     "execution_count": 39,
     "metadata": {},
     "output_type": "execute_result"
    }
   ],
   "source": [
    "text = 'Project'\n",
    "print(len(text))\n",
    "bytes = text.encode('UTF-8')\n",
    "print(len(bytes))\n",
    "bytes"
   ]
  },
  {
   "cell_type": "code",
   "execution_count": 41,
   "metadata": {},
   "outputs": [
    {
     "name": "stdout",
     "output_type": "stream",
     "text": [
      "1\n",
      "1\n",
      "b' '\n",
      "32\n"
     ]
    }
   ],
   "source": [
    "text = ' '\n",
    "print(len(text))\n",
    "bytes = text.encode('UTF-8')\n",
    "print(len(bytes))\n",
    "print(bytes)\n",
    "print(ord(bytes))"
   ]
  },
  {
   "cell_type": "code",
   "execution_count": 43,
   "metadata": {},
   "outputs": [
    {
     "name": "stdout",
     "output_type": "stream",
     "text": [
      "64500\n",
      "64500\n"
     ]
    }
   ],
   "source": [
    "response = requests.get(url)\n",
    "count = 0\n",
    "for element in response.text.split():\n",
    "    new_count = count + 1\n",
    "    count = new_count\n",
    "print(count)\n",
    "word_count = len(response.text.split())\n",
    "print(word_count)"
   ]
  },
  {
   "cell_type": "markdown",
   "metadata": {},
   "source": [
    "    page = get_page(url)\n",
    "    count = 0\n",
    "    char_count = 0\n",
    "    word_count = 0 # make a new basket called word_count and set to 0\n",
    "    for line in page:\n",
    "        new_count = count + 1\n",
    "        count = new_count\n",
    "        chars_in_line = len(line) \n",
    "        new_char_count = chars_in_line + char_count\n",
    "        char_count = new_char_count\n",
    "        ___ # split the line into a list of words and set word_list to this value\n",
    "        ___ # count the number of words in word_list and add to word_count\n",
    "        ___ # store the new total word_count in word_count\n",
    "    #     char_count = chars_in_line + char_count\n",
    "    print(\"lines in book:\", count)\n",
    "    print(\"characters in book:\", char_count)\n",
    "    ___ #  print the word count"
   ]
  },
  {
   "cell_type": "code",
   "execution_count": 45,
   "metadata": {},
   "outputs": [
    {
     "name": "stdout",
     "output_type": "stream",
     "text": [
      "lines in book: 6106\n",
      "characters in book: 380993\n",
      "words in book: 64500\n"
     ]
    }
   ],
   "source": [
    "page = get_page(url)\n",
    "count = 0\n",
    "char_count = 0\n",
    "word_count = 0 # make a new basket called word_count and set to 0\n",
    "for line in page:\n",
    "    new_count = count + 1\n",
    "    count = new_count\n",
    "    chars_in_line = len(line) \n",
    "    new_char_count = chars_in_line + char_count\n",
    "    char_count = new_char_count\n",
    "    word_list = line.split() # split the line into a list of words and set word_list to this value\n",
    "    new_word_count = len(word_list) + word_count # count the number of words in word_list and add to word_count\n",
    "    word_count = new_word_count # store the new total word_count in word_count\n",
    "#     char_count = chars_in_line + char_count\n",
    "print(\"lines in book:\", count)\n",
    "print(\"characters in book:\", char_count)\n",
    "print(\"words in book:\", word_count) #  print the word count"
   ]
  },
  {
   "cell_type": "code",
   "execution_count": 57,
   "metadata": {},
   "outputs": [
    {
     "name": "stdout",
     "output_type": "stream",
     "text": [
      "!\"#$%&'()*+,-./:;<=>?@[\\]^_`|~‘’“”´\n"
     ]
    }
   ],
   "source": [
    "import string\n",
    "L_SQUOTE = \"\\u2018\"\n",
    "R_SQUOTE = \"\\u2019\"\n",
    "L_DQUOTE = \"\\u201C\"\n",
    "R_DQUOTE = \"\\u201D\"\n",
    "ACUTE = \"\\u00B4\"\n",
    "punctuation = string.punctuation[:-4]\n",
    "punctuation = (punctuation + \"|~\" + L_SQUOTE + R_SQUOTE +\n",
    "               L_DQUOTE + R_DQUOTE + ACUTE)\n",
    "print(punctuation)\n",
    "punctuation_set = set(punctuation)"
   ]
  },
  {
   "cell_type": "code",
   "execution_count": 58,
   "metadata": {},
   "outputs": [],
   "source": [
    "def is_punctuation(char):\n",
    "    if  len(char) == 1 and char in punctuation_set:\n",
    "        return True\n",
    "    else:\n",
    "        return False"
   ]
  },
  {
   "cell_type": "code",
   "execution_count": 56,
   "metadata": {},
   "outputs": [
    {
     "name": "stdout",
     "output_type": "stream",
     "text": [
      "is_punctuation A False\n",
      "is_punctuation ' True\n",
      "is_punctuation yay! False\n"
     ]
    }
   ],
   "source": [
    "print(\"is_punctuation A\", is_punctuation(\"A\"))\n",
    "print(\"is_punctuation '\", is_punctuation(\"'\"))\n",
    "print(\"is_punctuation yay!\", is_punctuation(\"yay!\"))"
   ]
  },
  {
   "cell_type": "code",
   "execution_count": 59,
   "metadata": {},
   "outputs": [
    {
     "name": "stdout",
     "output_type": "stream",
     "text": [
      "words in book: 64500\n"
     ]
    }
   ],
   "source": [
    "page = get_page(url)\n",
    "word_count = 0 # make a new basket called word_count and set to 0\n",
    "for line in page:\n",
    "    word_list = line.split() # split the line into a list of words and set word_list to this value\n",
    "    new_word_count = len(word_list) + word_count # count the number of words in word_list and add to word_count\n",
    "    word_count = new_word_count # store the new total word_count in word_count\n",
    "print(\"words in book:\", word_count) #  print the word count"
   ]
  },
  {
   "cell_type": "code",
   "execution_count": 63,
   "metadata": {},
   "outputs": [
    {
     "name": "stdout",
     "output_type": "stream",
     "text": [
      "testing isalpha: True\n",
      "testing isalnum True\n",
      "testing isalnum again False\n"
     ]
    }
   ],
   "source": [
    "print(\"testing isalpha:\", \"Another\".isalpha())\n",
    "print(\"testing isalnum\", \"1989\".isalnum())\n",
    "print(\"testing isalnum again\", \"yay!\".isalnum())"
   ]
  },
  {
   "cell_type": "code",
   "execution_count": 64,
   "metadata": {},
   "outputs": [
    {
     "name": "stdout",
     "output_type": "stream",
     "text": [
      "Help on built-in function isalpha:\n",
      "\n",
      "isalpha(...) method of builtins.str instance\n",
      "    S.isalpha() -> bool\n",
      "    \n",
      "    Return True if all characters in S are alphabetic\n",
      "    and there is at least one character in S, False otherwise.\n",
      "\n"
     ]
    }
   ],
   "source": [
    "help(\"apple\".isalpha)"
   ]
  },
  {
   "cell_type": "code",
   "execution_count": 67,
   "metadata": {},
   "outputs": [
    {
     "name": "stdout",
     "output_type": "stream",
     "text": [
      "True\n",
      "False\n"
     ]
    }
   ],
   "source": [
    "mystring = 'حتراف'\n",
    "print(mystring.isalnum())\n",
    "mystring = 'حتراف !!!'\n",
    "print(mystring.isalnum())"
   ]
  },
  {
   "cell_type": "code",
   "execution_count": 69,
   "metadata": {},
   "outputs": [],
   "source": [
    "def is_word(mystring):\n",
    "    for character in mystring:\n",
    "        if not character.isalnum() and not is_punctuation(character):\n",
    "#         if not (character.isalnum() or is_punctuation(character)):\n",
    "            return False\n",
    "    # the loop has finished, everything is a letter or a number\n",
    "    # or punctuation\n",
    "    return True"
   ]
  },
  {
   "cell_type": "markdown",
   "metadata": {},
   "source": [
    "not A and not B\n",
    "\n",
    "is the same as saying\n",
    "\n",
    "not (A or B)"
   ]
  },
  {
   "cell_type": "code",
   "execution_count": 72,
   "metadata": {},
   "outputs": [
    {
     "name": "stdout",
     "output_type": "stream",
     "text": [
      "True\n",
      "False\n",
      "True\n"
     ]
    }
   ],
   "source": [
    "print(is_word(\"sausage\"))\n",
    "print(is_word(\"{3}\"))\n",
    "print(is_word('mould”'))"
   ]
  },
  {
   "cell_type": "code",
   "execution_count": null,
   "metadata": {},
   "outputs": [],
   "source": []
  }
 ],
 "metadata": {
  "kernelspec": {
   "display_name": "Python [Root]",
   "language": "python",
   "name": "Python [Root]"
  },
  "language_info": {
   "codemirror_mode": {
    "name": "ipython",
    "version": 3
   },
   "file_extension": ".py",
   "mimetype": "text/x-python",
   "name": "python",
   "nbconvert_exporter": "python",
   "pygments_lexer": "ipython3",
   "version": "3.5.4"
  }
 },
 "nbformat": 4,
 "nbformat_minor": 2
}
