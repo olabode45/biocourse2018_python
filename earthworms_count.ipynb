{
 "cells": [
  {
   "cell_type": "code",
   "execution_count": 12,
   "metadata": {},
   "outputs": [
    {
     "name": "stdout",
     "output_type": "stream",
     "text": [
      "New code loaded\n"
     ]
    }
   ],
   "source": [
    "import sys\n",
    "import requests\n",
    "\n",
    "code_url ='https://raw.githubusercontent.com/pvanheus/biocourse2018_python/master/earthworm.py'\n",
    "output_filename = 'earthworm.py'\n",
    "response = requests.get(code_url)\n",
    "if response:\n",
    "    with open(output_filename, 'w') as output_file:\n",
    "        output_file.write(response.text)\n",
    "    print(\"New code loaded\")\n",
    "else:\n",
    "    print(\"Failed to load earthworm utility code: {}\".format(response), file=sys.stderr)"
   ]
  },
  {
   "cell_type": "code",
   "execution_count": 13,
   "metadata": {},
   "outputs": [
    {
     "name": "stdout",
     "output_type": "stream",
     "text": [
      "!\"#$%&'()*+,-./:;<=>?@[\\]^_`|~‘’“”´\n",
      "words in book: 64500\n",
      "['apple', 'banana', 'pear']\n"
     ]
    }
   ],
   "source": [
    "# %load earthworm.py\n",
    "import string\n",
    "import requests\n",
    "from io import StringIO\n",
    "\n",
    "book_url = 'https://raw.githubusercontent.com/pvanheus/biocourse2018_python/master/darwin_earthworms.txt'\n",
    "\n",
    "def get_page(url):\n",
    "    response = requests.get(url)\n",
    "    if response:\n",
    "        page = StringIO(response.text)\n",
    "    else:\n",
    "        page = StringIO('')\n",
    "    return page\n",
    "\n",
    "L_SQUOTE = \"\\u2018\"\n",
    "R_SQUOTE = \"\\u2019\"\n",
    "L_DQUOTE = \"\\u201C\"\n",
    "R_DQUOTE = \"\\u201D\"\n",
    "ACUTE = \"\\u00B4\"\n",
    "punctuation = string.punctuation[:-4]\n",
    "punctuation = (punctuation + \"|~\" + L_SQUOTE + R_SQUOTE +\n",
    "               L_DQUOTE + R_DQUOTE + ACUTE)\n",
    "print(punctuation)\n",
    "punctuation_set = set(punctuation)\n",
    "\n",
    "def is_punctuation(char):\n",
    "    if  len(char) == 1 and char in punctuation_set:\n",
    "        return True\n",
    "    else:\n",
    "        return False\n",
    "        \n",
    "def is_word(mystring):\n",
    "    mystring = mystring.strip(punctuation)\n",
    "    if mystring == '':\n",
    "        return False\n",
    "    for character in mystring:\n",
    "        if not character.isalnum() and not character == '-':\n",
    "#         if not (character.isalnum() or character == '-'):\n",
    "            return False\n",
    "    # the loop has finished, everything is a letter or a number\n",
    "    # or punctuation\n",
    "    return True\n",
    "    \n",
    "page = get_page(book_url)\n",
    "word_count = 0 # make a new basket called word_count and set to 0\n",
    "for line in page:\n",
    "    word_list = line.split() # split the line into a list of words and set word_list to this value\n",
    "    new_word_count = len(word_list) + word_count # count the number of words in word_list and add to word_count\n",
    "    word_count = new_word_count # store the new total word_count in word_count\n",
    "print(\"words in book:\", word_count) #  print the word count\n",
    "\n",
    "def find_real_words(word_list):\n",
    "    new_word_list = []\n",
    "    for word in word_list:\n",
    "        if is_word(word):\n",
    "            new_word_list.append(word)\n",
    "    return new_word_list\n",
    "\n",
    "word_list = [\"apple\", \"banana\", \"{2}\", \"pear\", \"*\"]\n",
    "new_word_list = find_real_words(word_list)\n",
    "print(new_word_list)"
   ]
  },
  {
   "cell_type": "code",
   "execution_count": 27,
   "metadata": {},
   "outputs": [],
   "source": [
    "\n",
    "def find_real_words(word_list):\n",
    "    L_SQUOTE = \"\\u2018\"\n",
    "    R_SQUOTE = \"\\u2019\"\n",
    "    L_DQUOTE = \"\\u201C\"\n",
    "    R_DQUOTE = \"\\u201D\"\n",
    "    ACUTE = \"\\u00B4\"\n",
    "    punctuation = string.punctuation[:-4]\n",
    "    punctuation = (punctuation + \"|~\" + L_SQUOTE + R_SQUOTE +\n",
    "                   L_DQUOTE + R_DQUOTE + ACUTE)\n",
    "\n",
    "    new_word_list = []\n",
    "    for word in word_list:\n",
    "        if is_word(word):\n",
    "            clean_word = word.strip(punctuation)\n",
    "            lc_word = clean_word.lower()\n",
    "            new_word_list.append(lc_word)\n",
    "    return new_word_list"
   ]
  },
  {
   "cell_type": "code",
   "execution_count": 23,
   "metadata": {},
   "outputs": [
    {
     "data": {
      "text/plain": [
       "'animal'"
      ]
     },
     "execution_count": 23,
     "metadata": {},
     "output_type": "execute_result"
    }
   ],
   "source": [
    "mystring = '|*animal|'\n",
    "mystring.strip('|*')\n",
    "mystring = '   animal   '\n",
    "mystring.strip()"
   ]
  },
  {
   "cell_type": "code",
   "execution_count": 16,
   "metadata": {},
   "outputs": [
    {
     "name": "stdout",
     "output_type": "stream",
     "text": [
      "words in book: 63689\n"
     ]
    }
   ],
   "source": [
    "book_url = 'https://raw.githubusercontent.com/pvanheus/biocourse2018_python/master/darwin_earthworms.txt'\n",
    "page = get_page(book_url)\n",
    "word_count = 0 # make a new basket called word_count and set to 0\n",
    "for line in page:\n",
    "    line_pieces = line.split() # split the line into a list of words and set word_list to this value\n",
    "#     print(line)\n",
    "    word_list = find_real_words(line_pieces)\n",
    "    new_word_count = len(word_list) + word_count # count the number of words in word_list and add to word_count\n",
    "    word_count = new_word_count # store the new total word_count in word_count\n",
    "print(\"words in book:\", word_count) #  print the word count"
   ]
  },
  {
   "cell_type": "code",
   "execution_count": 28,
   "metadata": {},
   "outputs": [
    {
     "name": "stdout",
     "output_type": "stream",
     "text": [
      "unique words in book: 5326\n"
     ]
    }
   ],
   "source": [
    "book_url = 'https://raw.githubusercontent.com/pvanheus/biocourse2018_python/master/darwin_earthworms.txt'\n",
    "page = get_page(book_url)\n",
    "word_set = set()\n",
    "for line in page:\n",
    "    line_pieces = line.split() # split the line into a list of words and set word_list to this value\n",
    "    word_list = find_real_words(line_pieces)\n",
    "    for word in word_list:\n",
    "        word_set.add(word)\n",
    "print(\"unique words in book:\", len(word_set))"
   ]
  },
  {
   "cell_type": "code",
   "execution_count": 29,
   "metadata": {},
   "outputs": [
    {
     "name": "stdout",
     "output_type": "stream",
     "text": [
      "00263, 083, 1, 10, 100, 103, 1030, 107, 108, 10½, 11, 110, 111, 11½, 12, 120, 121, 13, 130, 131, 133, 138, 139, 13th, 13½, 14, 140, 1400, 1403, 142, 14th, 14½, 14¾, 15, 150, 1500, 152, 153, 156, 15th, 16, 1600, 165, 17, 1715, 18, 1802, 1809, 181, 1822, 1827, 1829, 183, 1830, 1833, 1834, 1835, 1837, 1838, 1841, 1842, 1843, 1844, 1845, 1846, 1847, 1849, 1852, 1853, 1854, 1859, 1865, 1866, 1867, 1868, 1869, 1870, 1871, 1872, 1873, 1874, 1875, 1876, 1877, 1878, 1879, 1880, 1881, 1884, 1887, 18th, 19, 1904, 1999, 19th, 1¼, 1½, 1¾, 2, 20, 200, 2000, 2001, 2015, 205, 21, 216, 218, 21½, 22, 224, 227, 229, 22nd, 23, 23-inch, 2355, 237, 23rd, 24, 240, 243, 247, 248, 25, 2576, 258, 25th, 25½, 25½-inch, 26, 262, 26th, 27, 270, 271, 278, 27th, 28, 281, 287, 28th, 28½, 29, 297, 2nd, 2¼, 2½, 2¾, 3, 30, 300, 3000, 303, 31, 311, 314, 32, 320, 324, 326, 327, 32½, 33, 330, 333, 337, 34, 35, 350, 354, 356, 36, 360, 361, 364, 367, 369, 37, 372, 375, 378, 379, 38, 380, 39, 394, 3½, 4, 40, 4000, 405, 409, 41, 416, 418, 419, 42, 43, 44, 447, 45, 451, 4566, 46, 47, 48, 480, 483, 48½, 49½, 4th, 4½, 4¾, 4⅓, 4⅛, 4⅜, 5, 50, 505, 51½, 53, 549, 55, 56, 57, 59, 596-1887, 5½, 5¾, 6, 60, 600, 601, 602, 61, 611, 619, 62, 63, 64, 64-6221541, 65, 65½, 66, 67, 68, 6½, 6¾, 7, 70, 700, 7000, 72, 73, 745, 748, 750175, 76, 77, 78, 79, 7th, 7½, 7¾, 8, 80, 801, 809, 82, 84116, 85, 89, 8vo, 8½, 8¾, 9, 90, 9000, 91, 95, 99775, 9th, 9¼, 9½, a, abbey, abide, abinger, able, aboriginally, aborigines, abound, abounded, abounding, about, above, above-mentioned, abraded, abridged, abruptly, absence, absent, absorb, absorbed, absorbent, abstract, abundance, abundant, acacia, academy, accept, accepted, accepting, access, accessed, accessible, accident, accidental, accidentally, accidents, accompanied, accompanying, accomplished, accordance, according, accordingly, account, accounted, accounts, accumulate, accumulated, accumulates, accumulating, accumulation, accuracy, accurate, accurately, acetic, acid, acidification, acidity, acids, acquire, acquired, acquiring, acre, acres, across, act, acted, acting, action, actions, active, activity, acts, actual, actually, acuminated, adapted, adapting, add, added, addition, additional, additions, address, addresses, adds, adduced, adduces, adhered, adhering, adhesion, adjoining, adjoins, admirable, admirably, admit, admits, admitted, advance, advanced, advantage, advantages, advisable, affect, affected, affects, affinis, affixed, afford, afforded, afraid, africa, african, after, afterwards, again, against, age, agencies, agency, agent, agents, ages, aggregated, aggregates, agitation, ago, agree, agreeable, agreed, agreement, agrees, agricultural, aid, aided, aiding, aids, air, air-bubbles, aisle, aisle-wall, aisles, ak, alarmed, alaska, albemarle, alcohol, ale, algiers, alimentary, alive, alkali, alkaline, all, allow, allowance, allowed, alluded, alluvium, almost, alone, along, alpinus, alps, already, also, alteration, alternate, alternately, alternative, alternatives, although, altitude, altogether, always, am, amazing, ambulatory, american, amidst, ammonia, among, amongst, amount, amounted, amounts, ampelopsis, ample, amply, aménagement, an, analogous, analogy, analyses, anatomists, ancient, anciently, and, anemone, angle, angles, angular, animal, animals, annals, annelids, anniversary, annual, annually, annum, anomaly, another, answered, antarctic, antecedent, antennæ, anterior, anthropological, antiquaries, antiquary, antiquity, antiquité, ants, anxious, any, anyhow, anyone, anything, anywhere, apart, apex, apical, apices, apium, apparent, apparently, appear, appearance, appearances, appeared, appearing, appears, append, applicable, application, applied, apply, appreciable, approach, approached, appropriate, approximately, april, apt, aquarium, arable, arbitrary, arch, archibald, archipel, archipelago, architectural, archive, archives, archæologists, arctic, are, area, areas, arenaceo-calcareous, arenicola, argillaceous, argued, argument, arguments, arid, arise, arising, armature, armed, arms, arose, aroused, array, arrest, arrested, arrive, arrow-heads, artemisia, arten, article, articles, articulated, articulation, artificial, artificially, as, as-is, ascends, ascertain, ascertained, ascertaining, ascii, ascribes, ash, ash-pit, ash-tree, ash-trees, ashes, asia, aspect, asserted, asserting, asserts, assignable, assistance, assoc, associated, assume, assumed, assumes, assuming, assured, assuredly, astonishing, astonishingly, at, atlantic, atlas, atmosphere, atmospheric, atolls, atrium, attach, attached, attack, attacked, attacking, attain, attained, attains, attempt, attempts, attend, attended, attention, attenuated, attractive, attribute, attributed, attrition, aucune, audible, auf, aug, august, aus, austriaca, author, authority, automaton, autumn, autumnal, available, average, averaged, avoiding, avoids, aware, away, away--you, azohumic, b, back, backwards, bad, bailiff, ball, band, bank, banked-up, banks, barbaric, bare, barrels, bars, basal, basalt, basaltic, base, based, bases, basilica, basin, basins, basket-like, basketfuls, bass, basses, bassoon, bath, bath-room, bathe, bathed, baths, battle, battle-field, bayswater, bd, be, beachy, beads, beagle, beaks, bear, bearing, beat, beaten, beaulieu, beaumont, beautiful, beautifully, beauty, beaver, became, because, beccles, become, becomes, becoming, bed, beds, beech-trees, been, bees, beet, before, began, begin, beginning, behave, behaved, behaviour, behind, behold, being, bekannten, belgian, belief, believe, believed, believes, believing, bell-glass, belong, belonged, belonging, below, bench-stones, bending, beneath, beneficial, bengal, berlin, beside, besides, best, better, between, bewegungen, beyond, bidrag, binary, birds, bis, bishop, bit, bits, bitterest, black, blackbirds, blackened, blackish, blackness, bladders, blade, blades, blakeway, blank, bleached, blind, block, blocks, blood-vessels, blow, blowing, blown, blows, blue, blunt, boa-constrictor, board, boden, bodies, bodily, body, boggy, bois, bones, book, border, borders, bored, born, botanic, botanist, both, bottom, bottoms, boulder, boulder-clay, boulders, bound, boundary, bounding, bowing, box, boys, brading, brain, branch, branches, branching, brazil, breach, breadth, break, breath, breathe, breathed, breathing, brick, brick-dust, brick-rubbish, bricked, bricks, brickwork, bridgman, bright, brighter, brightly, bring, bringing, bristles, britain, british, britons, broad, broader, broken, broken-down, bronze, brought, brown, browse, bruise, brush, buccleuch, buckman, build, builder, builders, building, buildings, built, bulbs, bulk, bull, buoying, burial, buried, burnt, burrow, burrowed, burrowing, burrows, bury, burying, business, but, buzzing, by, c, cabbage, cabbage-leaf, cabbage-leaves, cage, cake, cakes, calcareous, calciferous, calculate, calculated, calculates, calculation, calculations, calcutta, caldarium, caledonia, called, calm, came, can, canal, canals, candle, cannibals, cannot, capable, capacity, cape, capped, carabus, caracas, carbon, carbonate, carbonic, card, care, careful, carefully, careless, carelessly, carelessness, carnagie, carnivora, carried, carrot, carrot-leaf, carrots, carry, carrying, cart-loads, carted, cartridges, case, cases, cast, casting, castings, castle, catalogue, catch, catching, catharina, cathedral, cause, caused, causes, causeway, cavernous, cavities, cavity, cease, ceased, celery, cell, cell-walls, cellar, cellars, cells, cellular, cellulose, celts, cement, cemented, cent, centimeter, centimeters, central, centre, centres, centuries, century, cerebral, certain, certainly, cette, ceylon, chain, chalk, chalk-downs, chalk-fragments, chalk-rubble, chalky, chamber, chambers, chance, change, changed, changes, channels, chap, chapter, chapters, character, characteristic, charge, charged, charges, charitable, charities, charles, charred, check, checked, checks, chedworth, chemical, chemists, cherry, chevaux, chewed, chief, chiefly, chilled, china, chinks, chips, chitinous, chlorophyll, choice, choicest, choose, chosen, chronicle, church, cinders, cinquième, circle, circular, circulates, circulatory, circumference, circumstance, circumstances, cirencester, cities, city, claim, claparède, class, classes, clattered, claudius, clay, clayey, clean, clean-cut, clear, cleared, clearly, cleave, clef, clematis, cliff, cliffs, climate, climates, climbed, close, closed, closely, closely-fitting, closer, closes, closing, clothed, clothing, clouds, clowes, cm, coal, coal-ashes, coal-cinders, coarse, coarser, coast, coast-lines, coat, coated, cobra, cobra-snake, cochin, codes, coecum, cohered, coheres, cohesion, coiled, coiled-up, coin, coins, cold, collapse, collapsed, collapsing, collect, collected, collecting, collection, collections, collects, college, colloid, colonel, colonies, colour, coloured, colourless, columnar, columns, combination, combined, come, comes, coming, commenced, commencement, commercial, commingled, committed, commixtam, common, commonly, commons, communicated, compact, compactly, company, comparatively, compare, compared, comparison, compass, compelled, compensated, compilation, complete, completed, completely, compliance, complicated, comply, complying, component, composed, composing, compound, compounds, compressed, compression, computer, computers, concave, conceal, concealed, concealment, concentrated, concept, concern, concerned, concerning, conclude, concluded, concludes, conclusion, conclusions, concrete, concretion, concretions, condition, conditions, cone, configuration, confined, confinement, confirmation, confirmed, confirms, confluent, conformity, conical, conjecture, conjoined, connected, connection, consciously, consciousness, consequence, consequent, consequential, consequently, consider, considerable, considerably, consideration, considerations, considered, considering, considers, consist, consisted, consistence, consisting, consists, consolidated, conspicuous, conspicuously, constans, constant, constantine, constituting, construct, constructed, construction, constructions, consulting, consume, consumed, consumption, contact, contain, contained, containing, contains, contemporaneous, contents, continent, continually, continue, continued, continues, continuous, contortions, contour, contract, contracting, contraction, contrast, contributions, controverted, convenient, conveniently, converging, convert, converted, converts, convex, convexity, conviction, convinced, convolutions, cool, copenhagen, copied, copies, copious, coppices, copy, copying, copyright, coral, coral-reefs, corals, cores, corn, corn-crops, corn-fields, corner, corners, corniche, corporation, corrected, correctness, correspond, corresponding, corresponds, corridor, corrode, corroded, corroding, corrosion, corrupt, corylus, cost, costs, cotton-wool, couche, could, counted, countenanced, counterbalances, countless, countries, country, course, court-yard, court-yards, courting, courtyards, cover, covered, covering, covers, cows, crack, cracked, cracks, crateriform, crawl, crawled, crawling, creased, creases, created, creating, creation, creatures, credible, credit, crevice, critical, croll, crop, crops, cross, crossed, crosses, crossing, crowded, crown, crowns, crumble, crumbled, crumbling, crumpled, crushed, crushing, cryptogamic, crystalline, crystals, cubes, cubic, culinary, cultivated, cultivating, cultivation, culture, cum, cup-formed, curat, curious, curiously, curled, curling, current, currents, curvature, curved, cut, cut-off, cyclopædia, cylindrical, cytisus, d, daily, dam, damage, damaged, damages, damp, damped, dampness, dancer, danger, danish, dark, dark-coloured, darkness, darwin, dash, dashed, dashes, data, date, dated, dates, dating, david, day, day-time, days, de, de-oxidising, dead, deadly, deaf, deal, death, deaths, debacles, debouch, decay, decayed, decaying, deceived, december, decided, decomposed, decomposition, decreased, deduced, deductible, deep, deepened, deeper, deepest, deeply, defaced, defect, defective, defects, deficient, definite, degradation, degree, degrees, delay, deletions, delicate, delivered, demand, demolition, demonstrative, dense, denudation, denuded, depart, depend, depended, depending, depends, deposit, deposited, deposition, depression, depth, depths, der, deren, derivative, derive, derived, des, descent, described, describes, describing, deserted, desertion, deserve, deserves, designated, desirable, desirous, despair, despite, destitute, destroy, destroyed, destruction, detach, detail, details, detect, detected, determine, determined, determines, determining, developed, development, devour, devoured, dew, diagram, diagrams, diameter, diameters, diastatic, dicotyledonous, did, die, died, diem, differ, differed, difference, differences, different, differently, differing, differs, difficult, difficulty, digaster, digest, digested, digestible, digestifs, digestion, digestive, digging, digne, diluted, dim, dimensions, dionæa, dipped, direct, directed, direction, directions, directly, director, dirt, dirtied, dirty, disagreeable, disappear, disappearance, disappeared, disc, disclaim, disclaimer, disclaimers, discoloured, discolours, discontinue, discover, discovered, discovery, discs, discussed, discussing, disgorged, disintegrate, disintegrated, disintegrates, disintegration, disinterred, disk, dislike, dispelled, dispersed, displaced, displacement, displacing, display, displayed, displaying, disputed, disputes, disregard, dissected, dissolution, dissolve, dissolved, dissolves, dissolving, distance, distances, distant, distilled, distinct, distinctive, distinctly, distinguish, distinguishable, distinguished, distressed, distribute, distributed, distributing, distribution, distributor, district, districts, distrust, disturbance, disturbed, ditch, diurnal, diverge, divergence, diverticula, divided, division, divisions, do, doctrines, does, dolomite, domain, domesticated, donate, donation, donations, done, donors, doors, dormant, dots, dotted, double, doubled, doubling, doubt, doubted, doubtful, doubtfully, doubting, doubts, down, downloading, downs, downward, downwards, dozen, dr, drag, dragged, dragging, drain, drainage, drainage-area, drained, draw, drawing, drawn, drawn-in, dread, drew, dried, drier, dries, drifted, drifting, driving, drop, dropped, droppings, drops, drosera, drowned, druidical, dry, drying, du, due, dug, duke, dull, durable, duration, during, dust, débris, e, e-mail, each, eagerly, eagerness, eagle, early, earth, earth-castings, earth-worm, earth-worms, earthquakes, earthy, ease, easily, east, eastern, easy, eat, eaten, eating, eats, ebook, ebooks, echinoderms, eddies, edge, edges, edgeways, edit, edition, editions, educational, effect, effected, effective, effects, effectually, effervesce, effervesced, effervescence, efficient, efficiently, effort, efforts, egg, egg-capsules, egress, egypt, eight, eighteen, eighty-seven, ein, einwirkung, eisen, either, eject, ejected, ejection, ejects, elaborate, elapsed, elect, electronic, electronically, elegant, elements, elevation, eleven, elf-furrows, elm, elongated, else, elsewhere, email, embankment, embankments, embedded, embraced, emerge, emerged, eminently, emission, emperors, employed, employee, employees, employment, empty, emulsifies, en, enabled, enables, encampment, encampments, enclosed, enclosing, encoding, encountered, end, endeavoured, endemic, endless, ends, endured, enemies, enemy, energetic, energetically, engaged, england, english, engulfed, enjoy, enlarged, enlargement, enlarges, enormous, enough, ensuing, ensuring, entangled, enter, entered, entering, entertained, entire, entirely, entitled, entity, entomologiques, entrance, entrer, entry, entwined, epidermis, equably, equal, equalled, equally, equipment, erected, ernst, erosion, erroneous, error, errors, escape, escarpment, escarpments, especial, especially, essay, essentially, est, establishment, estates, estimate, estimated, estimates, et, ether, europe, even, evening, event, ever, every, everywhere, evidence, evident, evidently, evolution, exact, exactly, exaggerated, examination, examine, examined, examining, example, excavate, excavated, excavating, excavation, excavations, exceeded, exceeds, excellent, except, excepted, excepting, exception, exceptional, exceptions, excess, excessively, excessivement, excited, excites, excluded, excluding, exclusion, exclusively, excreted, excretion, executive, exempt, exert, exhibit, exhibited, exist, existed, existence, existing, exists, expand, expanse, expansion, expect, expected, expend, expense, expenses, experience, experiment, experimental, explained, explains, explanation, exporting, expose, exposed, exposure, express, expressed, expression, expulsion, expér, expérimentale, extant, extend, extended, extending, extends, extension, extensive, extent, exterior, exteriorly, exterminated, externally, extra, extra-stomachal, extract, extracted, extracting, extracts, extraordinarily, extraordinary, extreme, extremely, extremities, extremity, exudes, eye, eyes, f, fabre, faced, facilitate, facilitated, facility, fact, facts, fail, failed, faint, fairbanks, fairly, fait, falkland, fall, fallen, falling, fallow, falls, false, familie, family, famous, far, far-fetched, farm-house, farm-road, farm-yard, farmers, farrer, farthest, fashion, fast, fat, fatal, fault, faults, favour, favourable, favoured, favourite, feat, feathers, features, february, fed, federal, fee, feeble, feed, feel, feeling, fees, feet, fell, fellow-workers, felt, ferment, fermentation, fermentations, ferns, ferociously, ferruginous, fertile, festooned, few, fibrin, fibrous, fibrous-rooted, field, fields, fifteen, fifth, fifty, fifty-seven, fifty-two, fig, fighting, figure, figured, file, files, fill, filled, filled-up, fills, film, films, final, finally, financial, find, finding, fine, fine-grained, finely, fineness, finer, finest, finger, fingers, fire, fired, fires, firm, firmly, first, firstly, fish, fishes, fissures, fit, fitness, fits, fitted, five, fix, fixed, flaccid, flag-stones, flagstones, flakes, flanks, flask, flat, flattened, flax-seeds, fleshy, flexibility, flexible, flint, flints, flocculent, flooded, floor, floors, flow, flowed, flower-bed, flower-peduncles, flowers, flowing, flowing-down, flows, fluctuations, fluid, fly, folded, follow, followed, following, follows, fond, food, foot, foot-paths, foot-stalk, foot-stalks, footnotes, for, forbes, force, forced, foregoing, foreign, forest, forestry, forests, forget, forked, form, format, formation, formations, formats, formed, former, formerly, forming, forms, forth, fortifications, fortified, fortunate, fortune, forty, forty-eight, forward, forwards, forêts, fossil, foster, found, foundation, foundations, founded, four, four-and-a-half, fournir, fourth, fraction, fractured, fragment, fragmentary, fragments, france, francis, fredericq, free, freely, frequency, frequent, frequently, fresh, freshly, freshly-broken, friable, friction, friend, friends, fringe, frise, fritz, from, front, frost, frosts, frozen, ft, fuel, full, full-sized, fuller, fully, function, functionless, furnished, furrow, furrowed, furrows, further, future, für, g, gain, gained, gale, gales, gallinaceous, gallop, galton, gamekeeper, ganglia, gard, garden, gardener, gardeners, gardens, gastric, gave, geikie, genera, general, generally, generate, generated, generation, generations, geneva, gentle, gentleman, gently, genus, geolog, geological, geologist, geologists, geology, george, german, germany, germinate, germinated, germination, get, ghosts, gigantic, gilbert, give, given, gives, giving, gizzard, gizzards, glacial, glacier, glacier-ground, glades, gland, glands, glasgow, glass, gleaned, glen, globular, globules, gloucestershire, gnawed, gnawing, go, goals, goes, going, gold, gone, good, goose-quills, gorse, govern, government, gradual, gradually, graduated, grain, grains, gram, grammes, grams, gran, granted, granular, grape-sugar, grass, grass-blades, grass-covered, grass-field, grass-fields, grass-fringed, grass-hoppers, grass-plants, grasses, grasshopper, grassy, grateful, gratefully, gravel, gravel-walk, gravel-walks, gravelly, gravity, grazing, great, greater, greatest, greatly, greedily, green, gregory, grew, grinding, grisedale, gross, ground, grounds, group, grouped, groups, grover, grow, growing, grown, grows, growth, guard-cells, guardian, guide, guided, gum-water, gutenberg, gutenberg-tm, géolog, géologie, géologue, h, haast, habit, habits, habitual, habitually, hackers, had, half, half-a-year, half-decayed, half-penny, half-withered, hall, halls, halves, hampshire, hand, handful, handle, hands, happened, happens, hard, harder, hardest, hardly, harmless, harrowed, hart, has, hasten, hastened, haulm, haute, have, having, hay, hazel, hazy, he, head, heads, healthy, heap, heaped, heaps, hear, heard, hearing, heat, heat-rays, heated, heath, heathen-fields, heaviest, heaviness, heavy, hectare, hedge-rows, hedgerow, heft, heidelberg, heidenäcker, height, heights, held, helena, help, hence, henri, henry, hensen, henslow, her, herbage, herbivorous, here, hereafter, hesitation, hidden, high, high-fields, higher, highest, highly, highly-endowed, hill, hill-side, hill-sides, hillocks, hills, hillside, him, himalaya, himalayan, hinder, hindered, his, hist, histoire, histolog, history, hitherto, hochäcker, hoffmeister, hold, holder, holds, hole, holes, hollow, hollows, holothurians, holwood, home, honey, hooker, hope, horace, horizon, horizontal, horizontally, horner, horse, horse-hairs, horse-radish, horse-shoe, hortensis, hot, hothouse, houlleti, hour, hours, house, houses, how, however, hrs, huge, human, humid, humides, humus, humus-acids, humus-lined, humusformen, hundred, hundreds, hurt, husk, husks, hut, huttonian, hybernating, hybrid, hybridised, hyde, hydrochloric, hypertext, hypocaust, hypocausts, i, ice, iceland, identification, identify, if, ignores, ii, iii, ill-adapted, ill-fitted, illuminated, illustrations, im, imagined, imbedded, immediate, immediately, immemorial, immense, immersed, immersion, imp, implements, impleta, implicitly, implied, implies, importance, important, imposed, impossibility, impossible, impression, impressions, improbability, improbable, improve, improved, impulse, impure, in, inability, inaccurate, incapacity, inch, inches, incident, incidental, inclination, inclinations, inclined, include, included, includes, including, incomparably, incomplete, increase, increased, increasing, incredible, indebted, indeed, indefinitely, indemnify, indemnity, indent, indentations, independent, independently, india, indicate, indicated, indicates, indicating, indies, indifference, indifferent, indifferently, indirect, indirectly, indiscriminately, indispensable, individual, individuals, induces, indurated, inequalities, inevitable, inevitably, inexplicable, infallibly, infer, inferred, infiltrated, infinite, influence, influenced, infolded, information, informed, informs, infringement, ingress, inhabit, inhabitants, inhabited, inhabiting, inhabits, inherent, inheritance, inherited, injured, injurious, ink, inland, inner, innumerable, inorganic, inquiries, insect, insects, insensible, insert, inserted, inserts, inside, insignificant, insoluble, inspected, inst, instance, instances, instant, instantaneous, instantly, instead, instinct, instinctive, instinctively, instincts, institute, instructive, instrument, intellectual, intelligence, intelligent, intelligible, intend, intends, intensely, intensity, intentionally, intercept, intercepted, interdict, interest, interested, interesting, interfere, interior, intermediate, intermingled, intermittent, internal, internally, international, interpreted, intersect, intersected, interspersed, interstices, interval, intervals, intervening, intestinal, intestine, intestines, intimately, into, introduced, introduction, intéressantes, invalidity, invariably, inventions, investigated, involution, inwards, ireland, iron, irregular, irregularities, irritation, irs, is, islands, isle, isolated, it, its, itself, iv, ivy, ix, j, jago, jahrbücher, james, jan, january, jars, jaw, jaws, jenyns, jerked, jetzt, john, johnson, joined, joint, joints, journal, joyce, judge, judged, judging, juice, julien, july, junction, june, jungles, just, justice, justified, justify, keep, keeping, kent, kept, kerguelen, key, keys, kill, killed, kills, kiln, kilogrammes, kind, kindness, kinds, king, kitchen, kitchen-garden, knew, knife, knocked, knole, knoll, know, knowing, knowledge, known, knows, koninck, krefft, krukenberg, l, la, labour, labourées, laburnum, lady, lagoons, laid, lain, lake, lake-margins, lamellæ, lamp, land, land-bird, land-birds, land-mollusc, land-molluscs, land-surfaces, lands, landwirth, language, lankester, lantern, lapillis, lapse, laquelle, large, largely, larger, largest, larva, larvæ, last, last-mentioned, lasted, lastly, lasts, late, lately, later, lateral, laterally, latitude, latter, laura, law, lawn, lawns, laws, lawsuits, lay, layard, layer, layers, lb, lbs, le, lead, leading, leads, leaf, leaf-mould, leaflet, leaflets, learn, learnt, leasows, least, leave, leaves, leaving, lecturing, led, ledge, ledges, leeward, left, leg, leg-bones, legal, legally, legs, leith, length, lengths, lens, les, less, lessened, let, letter, level, levelled, levels, levers, levigated, lewes, lex, leçon, leçons, liability, liable, library, license, licensed, lichens, lie, lies, lieu, life, lifted, lifting, light, light-coloured, lightly, like, liked, likely, likewise, lime, lime-kiln, lime-leaves, lime-tree, lime-water, limit, limitation, limited, limits, limp, lindsay, line, linear, lined, lines, lining, linked, links, linn, lip, liquid, liquorice, literary, litmus, little, live, lived, liverpool, lives, living, llc, loam, loamy, lobe, local, located, locations, lodged, loess, lofty, logs, lombriciens, london, long, long-continued, longer, longitudinal, longitudinally, look, looked, looking, looks, loose, loosening, lose, loses, losing, loss, losses, lost, lot, lots, loudest, loudly, low, lower, lowered, lowering, lowest, lowly, lubricating, lui, lumbrici, lumbricus, lumps, luzon, luzonica, lyell, lying, léon, m, machine, madagascar, made, mael, maer, mag, magazine, mailing, main, mainly, maintained, maintaining, maintains, majority, make, makes, making, mallet, man, manchester, manifest, manifestly, manière, manner, manners, mantle, manufactured, manure, manured, manuring, many, maple, mapped, maps, marble, march, margin, margins, marina, marked, market-place, marketplace, marl, marl-fragments, marled, marvel, marvellous, mass, massacred, masses, massive, materially, materials, matted, matter, matériaux, maxim, maximum, may, mcintosh, me, meadow, meadows, mean, meanders, means, measure, measured, measurement, measurements, meat, mechanical, medium, meet, mellard, members, membrane, membranous, memoir, memoirs, memory, men, mental, mention, mentioned, merchantability, merchants, mere, merely, mesophyll, met, metal, meteoric, method, methods, metre, metres, mica-schist, micaceous, michael, micrococci, microscope, microscopical, middle, middle-aged, midrib, might, migrated, mile, miles, mill-stones, millefleurs, miller, million, millstones, min, mind, minds, mingle, mingled, miniature, minimis, minnows, mint, minute, minutes, miscalled, mission, mississippi, mistake, mistaken, mistook, mixed, mixture, mm, moderate, moderately, modern, modification, modified, moist, moisten, moistened, moisture, mole, moles, molluscan, moment, momentarily, money, moniligaster, monographed, monoliths, monsoon, monsoons, montana, month, months, montpellier, monument, moon, moorhouse, moraine, more, moreover, morning, morren, mortar, moss, mossy, most, mostly, motion, motionless, motive, mould, mound, mounds, mountain, mountainous, mountains, mouth, mouths, move, moved, movement, movements, moves, moving, mowed, mowing, mown, mr, much, much-coveted, mucous, mud, muddy, mulberry-like, multiplied, multitude, mundane, murray, muscles, muscular, museum, must, mustard, muséum, mutual, my, myself, mythology, möbius, müller, n, naked, name, named, namely, nancy, narrow, narrower, narrowest, narrowness, nat, native, natives, natural, naturalist, naturalists, naturalized, naturally, nature, natürlichen, nave, near, nearer, nearest, nearly, necessarily, necessary, necessity, neck, need, needle, needles, neglect, neglected, negligence, neighbourhood, neighbouring, neither, nervous, nest, net, network, neutral, neutralise, neutralises, neutralization, never, nevertheless, new, newby, newly, newman, newsletter, next, nibbled, nice, night, nights, nigricans, nilgiri, nilgiris, nine, nitrates, nitric, nitrification, nitrites, nitrogen, nitrogenous, nitrous, no, nocturnal, nodule, nodules, noise, non, none, nonproprietary, nor, north, north-east, north-eastern, north-west, north-western, northern, nos, not, note, noted, notes, noteworthy, nothing, notice, noticed, notifies, notion, notwithstanding, nourished, nouvelles, november, now, nowhere, nucleated, nucleolus, nucleus, number, numbers, numerous, nutriment, nutritious, nuts, oat-grain, oat-stubble, object, objected, objections, objects, objet, oblique, obliquely, obliterated, obliteration, oblong, obscure, observation, observations, observe, observed, observer, observers, observing, obsolete, obstacles, obtain, obtained, obtaining, obvious, obviously, occasion, occasional, occasionally, occasions, occupied, occupier, occur, occurred, occurs, ocean, oceans, oct, october, odoriferous, odour, odours, of, off, offered, offers, office, official, often, oftener, oil, old, older, oldest, oligochætfauna, olive-oil, omnivorous, on, once, onchidium, one, one--the, one-third, ones, onion, onion-bulb, online, only, oozing, opaque, open, opened, opens, operations, opportunities, opportunity, opposed, opposing, opposite, or, orchard, order, ordinary, organ, organic, organisation, organisms, organization, organized, organs, origin, original, originally, originated, originator, ornamental, ornamented, ornaments, other, others, otherwise, ought, ounce, ounces, our, out, outbursts, outdated, outer, outline, outside, ova, oval, over, over-lying, overcome, overlies, overlook, overlooked, overlying, overstocked, ovipositor, owe, owed, owing, own, owner, owns, oxalate, oxide, oxides, oxidise, oyster-shells, oz, p, paces, page, pages, paid, pain, paint, pair, paired, pairing, pairs, pale-coloured, palisade, palpi, pamphlet, pan, pancreas, pancreatic, panic, papal, paper, papers, paperwork, par, paraffin, paragraph, paragraphs, parallel, parallelism, paralysed, parasitic, pared, parenchyma, parent-plant, parfitt, paris, park, parks, parsnip, parsons, part, partially, particle, particles, particular, particularly, partly, parts, party, party-wall, pass, passage, passages, passed, passes, passing, passion, pastinaca, pasture, pasture-field, pasture-land, pasture-lands, pastures, pat, patches, path, paths, paved, pavement, pavements, pay, paying, payments, pear, peat, peaty, pebble, pebbles, peculiar, peduncles, peewit, pellet, pellets, penetrate, penetrated, penetrates, penetrating, penetration, penny, people, peptic, peptone, per, per-oxide, perceive, perceived, percentage, perceptible, perception, percolated, percolation, perfect, perfectly, perform, performances, performed, performing, perfume, perhaps, perichæta, period, periodic, periodically, periods, perished, peristaltic, permanence, permanent, permission, permit, permitted, perpendicular, perpendicularly, perplexing, perrier, perseveringly, person, persons, pertinaciously, pertinacity, pervious, petiole, petioles, pg, pglaf, pharmacopoeia, pharynx, phil, philippinen, philippines, philosophical, phlox, phosphate, photograph, phrase, physical, physiol, physiology, piano, picked, pickling, picture, piece, pieces, pike, pile, piled, piles, piling, pimples, pincers, pine, pine-leaf, pine-leaves, pine-tree, pine-trees, pines, pinned, pins, pinus, pipe, pipes, pisa, pits, pitted, place, placed, places, plain, plainer, plainest, plainly, plains, planed, plant, planted, plants, plaster, plastered, plata, plateau, plates, play, played, playfair, plays, pleasant, please, pleasure, plenty, plots, plough, ploughed, ploughing, ploughshare, plug, plugged, plugged-up, plugging, plugging-up, plugs, po, point, pointed, pointing, points, poison, poisonous, poked, poker, polished, ponderous, pool, pools, poor, poorly, poorness, popular, population, porous, portion, portions, portland, position, positions, positive, positively, possess, possessed, possesses, possessing, possession, possibility, possible, possibly, posted, posterior, posteriorly, postscript, pot, potash, potatoes, pots, pottery, pouches, pound, pounded, pounding, pounds, pour, poured, powder, powdered, power, powerful, powers, pp, practically, practice, prairies, pratique, pre-existing, precipitate, precipitated, precipitous, preclude, prefer, preference, preferred, prehension, prehistoric, prejudice, prematurely, premised, preparation, prepare, prepared, prepares, preparing, presence, present, presented, presenting, presently, presents, preservation, preservative, preserve, preserved, presidential, pressed, pressure, presumed, preuve, prevailed, prevalent, prevent, prevented, prevents, previous, previously, prey, price, pricked, primarily, principal, principle, print, printed, priori, probability, probable, probably, problem, proboscis, proc, process, processing, proctor, procure, procured, produce, produced, produces, producing, product, production, productive, prof, professor, profit, profiting, profits, profusion, progenitors, progress, progrès, prohibition, project, projected, projecting, projection, prominence, prominently, promoting, promotion, proof, proofread, proper, properly, property, proportion, proportional, proportions, proprietary, prostrate, protect, protected, protection, protoplasmic, protracted, protrudable, protrude, protrudes, protruding, protuberance, protuberant, prove, proved, proves, provide, provided, providing, provision, provisions, proximity, præsepè, pseudo-acacia, public, publication, publish, published, puff, pulled, pulling, pulpy, pulverem, punctured, punitive, pupils, pure, purpose, purposeless, purposes, pursued, push, pushed, pushes, pushing, put, putrid, putting, pâte, pétersbourg, quadrangle, quadruped, quantities, quantity, quarry, quarter, quarterly, quarters, quartz, quartzose, question, questions, qui, quick-lime, quicker, quickly, quiet, quite, quoted, r, rabbit, rabbits, radiant, radiation, rain, rain-water, rains, rainy, raised, rake, rammed, ramsay, ran, range, ranges, rapid, rapidity, rapidly, rare, rarely, rate, rates, rather, raw, ray, re-absorbed, re-direct, re-examined, re-opened, re-use, reach, reached, reaching, reaction, read, readable, reade, readily, reading, ready, real, realised, really, reappeared, reared, reason, reasonable, reasons, recall, receipt, receive, received, receiving, recent, recently, recently-dug, recently-ejected, recently-ploughed, receptacle, reception-room, reclamation, recognise, record, recorded, recording, recovered, recrystallized, recur, recurrent, red, redactâ, reddish, reddish-orange, redistribute, redistributing, redistribution, redness, reduce, reduced, reefs, refer, reference, references, referred, reflected, reflecting, reflection, reflex, reflexed, refund, refuse, regard, regardless, regards, regenwürmer, regions, registered, regular, regularity, regularly, regulating, reign, reisen, rejected, rejettent, relate, relation, relative, relatively, release, relic, relics, relies, relinquished, relish, rely, remain, remained, remaining, remains, remarkable, remarkably, remarked, remarks, remarques, remedies, remember, remembered, reminded, reminds, remnant, remnants, remote, removal, remove, removed, removes, removing, renamed, render, rendered, rendering, renders, renewed, reopen, repeated, repeatedly, repens, replace, replaced, replacement, reported, reports, represent, representations, represented, representing, represents, request, require, required, requirements, requisite, research, researches, resemble, resembled, resembles, residue, resist, resistance, resisting, resolved, respect, respectively, respects, respiration, respiratory, rest, rested, resting, restrictions, rests, result, resultant, resulted, results, retain, retained, retaining, retains, retarded, retreat, retreated, retreating, return, returns, rev, revenue, reverse, revolve, revolves, rhizoma, rhododendron, rhombic, rice-fields, rich, richthofen, riddled, ridges, rifle-targets, right, rigid, rills, rings, ripened, ripples, rise, rises, river, rivers, road, roads, roasted, robinia, rock, rocks, rocky, rod, roll, rolled, roller, rolling, rolls, roman, romanes, romans, rome, roof, roofed, roofs, room, rooms, root, rootlets, roots, rose, rose-bushes, rose-thorns, rotted, rotten, rough, roughly, round, rounded, rows, roy, royal, royalties, royalty, rub, rubbed, rubbish, rubble, rude, ruined, ruins, rule, rules, run, running, runs, ruptured, russia, rustling, réduite, s, sa, sachs, safe, safely, safety, sage, sagged, said, sailing, sake, saliva, salt, salt-water, saltpetre, salts, same, sample, samples, sand, sands, sandstone, sandy, sank, saturate, saturated, saucer, saucers, saussure, save, saved, saves, saw, say, saying, says, scale, scandinavia, scant, scanty, scarcely, scattered, scavenger, sceptical, schiehallion, schmulewitsch, science, sciences, scolopendras, scored, scores, scotch, scotch-fir, scotland, scott, scratched, scratches, sea, sea-kale, sea-level, sea-shore, search, searched, season, seasons, seated, seco, second, secondarily, secondly, secrete, secreted, secretion, secretions, section, sections, secure, secured, securely, securing, sediment, sedimentary, see, seedlings, seeds, seeing, seem, seemed, seems, seen, segments, seize, seized, selborne, seldom, select, selected, selection, semi-aquatic, semi-fluid, semper, send, sending, sense, sense-organs, senseless, senses, sensible, sensibly, sensitive, sensitiveness, sent, sentence, separate, separated, separately, separating, separation, sept, september, ser, series, serious, serve, served, serves, service, set, sets, setting, settling, seven, seventeen, seventh, several, severe, severn, sexes, sexual, shaded, shaft, shaken, shall, shallow, shape, shaped, shapes, share, shared, sharing, sharp, sharpest, sharply, sharpness, she, sheds, sheep, sheet, sheets, shell-lac, shells, shelter, shepherd, shoes, shop, shores, short, shorter, shortest, shortly, shot, should, shouts, show, showed, shower, showing, shown, shows, shreds, shrewsbury, shrill, shrink, shrinkage, shrivelled, shrubberies, shrunk, shut, sick, side, side-walls, sides, sift, sifted, sifting, sight, sign, signally, signs, sikkim, silchester, silex, silica, similar, similarly, simple, simpson, since, single, singly, singular, singularly, singulière, sink, sinking, sinks, sinuous, sir, site, sites, situated, situation, six, sixteen, sixty-four, size, sizes, skandinaviens, skeleton, skeletons, skewer, skill, skin, skins, skovbrug, slab, slabs, slate, slice, slicing, slide, slided, slides, sliding, slight, slightest, slightly, slime, slimy, slope, sloped, slopes, sloping, slovenly, slow, slower, slowly, slowness, small, smaller, smallest, smell, smooth, smoothed, smoother, smoothly, smoothness, snake, snow, snow-fields, so, so-called, soaked, soc, social, society, soda, soft, softened, softer, soil, soils, soldiers, sole, solely, solicit, solicitation, solid, solidity, soluble, solution, some, somehow, something, sometimes, somewhat, son, sons, soon, sooner, sorby, sort, sought, sound, sounded, sounding, source, south, south-east, south-west, southern, souvenirs, sowed, space, spaces, spade, sparsely, speak, speaking, speaks, special, specialized, specially, species, specific, specified, specimens, specks, sphex, spines, spire, spirit-level, spit, splinters, spoken, sponge, spongy, spores, sportsman, spot, spots, spread, spring, sprouting, sprung, spurts, square, squares, squeezed, squeezing, squirrel, st, staff, staffordshire, stamped, stand, standard, standards, standing, stands, stanley, staphylinus, star-shaped, starch, starch-grains, starch-granules, start, started, startled, state, stated, statement, statements, states, stations, status, stay, steadily, steel, steep, steeper, steepest, steeply, stem, stems, step, steps, sticking, sticks, stiff, still, stirred, stocked, stomach, stomata, stone, stone-quarry, stone-rubbish, stonehenge, stones, stony, stood, stopped, store, stored, storms, story, straight, straightness, strata, stratum, streaked, streaks, stream, streams, street, streets, strength, strengthen, stretch, stretched, stretching, strewed, strict, strictly, strike, striking, string, stripped, strong, strongest, strongly, struck, structure, structures, struthious, stucco, stuck, studded, studied, studien, study, stump, stupendous, sturtevant, sub-aerial, sub-central, sub-soil, subaerial, subjacent, subject, subjected, submerged, subordinate, subscribe, subsequent, subsequently, subside, subsided, subsidence, subsiding, subsist, subsisted, subsisting, subsists, subsoil, subsoils, substance, substances, substratum, subterranean, succeed, succeeded, succeeding, successful, successive, successively, such, sucked, sucs, suction, sudden, suddenly, suffer, suffered, suffers, suffice, sufficed, suffices, sufficient, sufficiently, sugar, suggested, sulphuric, sum, summary, summer, summit, summits, sun, sun-dried, sunk, sup, super-abundant, superficial, superfluous, superincumbent, superintended, superintendence, superintendent, supply, supplying, support, supported, supporting, supports, suppose, supposed, supposes, supposing, supposition, sur, sure, surface, surface-growth, surface-soil, surfaces, surprise, surprised, surprising, surprisingly, surrey, surround, surrounded, surrounding, surrounds, survey, surveyors, survive, suspect, suspected, suspects, suspicion, swallow, swallowed, swallowing, swamp, swampy, sward, swedish, sweep, swell, swells, swept, switzerland, sydney, sylvestris, synonymous, system, t, table, tactile, tahiti, tail, tails, take, taken, takes, taking, tall, taller, tallest, talus, taper, tapering, taste, tax, taxes, tear, teeth, teg, tell, temperature, temporary, tempted, ten, tenacity, tenant, tenanted, tend, tended, tendency, tender, tends, tenuissimâ, term, terminal, terminate, terminated, terminating, terms, terra, terrace, terre, terres, terrestres, terrestrial, terrestris, terricolous, terror, terrâ, tertiary, tesselated, tesselation, tesseræ, test, tested, text-book, texts, texture, th, than, that, thaw, thawing, thaws, the, their, theirs, them, themselves, then, thence, theories, theory, there, thereabouts, therefore, these, they, thick, thicken, thicker, thickest, thickly, thickness, thicknesses, thiere, thin, thing, things, think, thinking, thinks, thinned, thinnest, third, thirteenth, thirty, thirty-eight, thirty-five, this, thorough, thoroughly, those, though, thought, thousand, thousands, thread, threads, three, threw, thrice, through, throughout, throw, thrown, thrown-up, throws, thrushes, thunderstorm, thus, thyme, thymol, thénard, théorie, tidal, tidsskrift, tied, tightly, tile, tiles, till, tillage, tilled, timber, time, times, timid, tin-foil, tint, tip, tips, tissue, title, to, toad, tobacco, together, told, tolerably, tom, tonbridge, tones, tons, too, took, top, top-sward, tops, tore, torn, torrents, touch, touched, touching, tough, towards, tower, tower-like, towers, town, trace, traced, traces, track, tracks, trademark, tradition, traffic, trampled, trampling, tranquil, trans, transact, transactions, transcribe, transcribed, transcription, transepts, transformation, translucent, transmitted, transparency, transparent, transported, transudation, transverse, transversely, trap, trap-doors, traps, travel, travelling, travels, traverse, treading, treat, treated, treatment, treble, tree, trees, tremble, trembled, trench, trenches, trials, triangle, triangles, tribune, tried, tries, tringa, triticum, triturate, triturated, triturating, trituration, trodden-down, tropical, tropics, trouble, troublesome, trowel, true, truncated, trunk, trustworthy, truth, try, trying, tryptic, très-mince, tube, tuft, tufted, tufts, tugging, tumuli, tunnels, turf, turf-covered, turf-edgings, turin, turn, turned, turned-up, turning, turnip, twelve, twenty, twenty-eight, twenty-five, twice, twigs, two, two-thirds, tylor, types, typhlosolis, ultimate, ultimately, un, unable, unaffected, unarmed, unavoidably, unbroken, uncovered, uncreased, uncultivated, und, under, undergo, undergoes, undergone, underground, underlie, underlying, undermined, undermining, understand, understood, undertaken, undervalues, undissolved, undisturbed, undoubtedly, undulates, undulations, une, uneasy, unenclosed, unenforceability, unequal, unequally, unfavourable, unfitted, unfortunately, ungnawed, uniform, uniformly, unite, united, univ, unknown, unless, unlimited, unlink, unmelted, unnatural, unpleasant, unprotected, unrolled, unseen, unsolicited, unstable, unsupported, unter, untersuchungen, until, unused, unusual, unusually, unvarying, unworn, up, updated, upon, upper, upright, upset, upwardly, upwards, urged, uric, uriconium, urinary, urochæta, us, use, used, useless, user, using, usual, usually, ut, utf-8, utilising, utricularia, utterly, v, vacant, vacuum, vain, vainly, valley, valleys, valuable, valued, vanellus, vanilla, variations, varied, varieties, variety, various, variously, vary, varying, vast, vegetable, vegetation, veins, veluti, venezuela, vent, verandah, verde, vermiform, verna, version, vertical, vertically, very, vessel, vessels, vestige, vi, vibration, vibrations, vidi, view, viewed, viewing, views, vigorously, vii, viii, villa, villas, vinegar, violates, violently, virus, viscid, viscidity, viscous, visible, vision, visit, visited, viz, void, voided, voir, voiture, vol, volcanic, volley, volume, volunteer, volunteers, von, voyage, vries, végétale, véritable, w, wales, walk, walks, wall, wallace, walled, walls, wander, warm, warmth, warned, warranties, warranty, was, washed, washing, washing-down, waste, wastes, watch, watched, water, water-course, water-spouts, water-worn, watercourse, watered, wattled, waved, waves, way, ways, we, weak, weakness, wear, wearing, wears, weather, weathered, weaver-bird, web, wedge, wedgwood, weeded, weeds, week, weekly, weeks, weigh, weighed, weighing, weight, weights, well, well-beaten, well-defined, well-developed, well-like, well-preserved, well-rounded, well-swept, well-trodden, wellington, went, were, west, western, westmoreland, wet, wettest, what, whatever, whatsoever, when, whence, whenever, where, whereas, wherever, wherewith, whether, which, while, whilst, whistle, whitaker, white, whitish, who, whole, wholly, whom, whose, why, wide, widely, wider, widest, width, wild, will, william, winchester, wind, wind-drifted, wind-driven, window, winds, windward, windy, winter, winter-quarters, wire, wisely, wiser, wish, wished, wissensch, wissenschaft, wisseuschaft, with, withdraw, withdrawal, withdrawing, withdrawn, withdrew, withered, withers, within, without, witnessed, women, wonderful, wood, wooden, woods, wool, word, work, worked, worker-ant, working, workman, workmen, works, world, worm, worm-burrow, worm-burrows, worm-casting, worm-castings, worms, worn, worth, would, wound, wrenched, wright, writers, writing, writing-paper, written, wrong, wrote, wroxeter, xii, xix, xvii, xx, xxv, xxviii, xxxiii, y, yard, yard-line, yards, year, years, yellow, yellowish, yet, yield, yielded, yielding, york, you, young, your, zealand, zeitschrift, zincke, zones, zoolog, zoologie, zoologist, ¼, ½, ¾, à, ærarium, é, élevées, élie, über, œsophagus, μ, ⅓, \n"
     ]
    }
   ],
   "source": [
    "sorted_words = sorted(list(word_set))\n",
    "for word in sorted_words:\n",
    "    print(word, end=\", \")\n",
    "print()"
   ]
  },
  {
   "cell_type": "code",
   "execution_count": 31,
   "metadata": {},
   "outputs": [
    {
     "name": "stdout",
     "output_type": "stream",
     "text": [
      "{'carnivore': 17, 'vegetarian': 2}\n"
     ]
    }
   ],
   "source": [
    "mydict = {\"carnivore\": 17, \"vegetarian\": 2}\n",
    "print(mydict)"
   ]
  },
  {
   "cell_type": "code",
   "execution_count": 33,
   "metadata": {},
   "outputs": [
    {
     "name": "stdout",
     "output_type": "stream",
     "text": [
      "{'carnivore': 17, 'vegetarian': 2}\n"
     ]
    }
   ],
   "source": [
    "mydict = dict(carnivore=17, vegetarian=2)\n",
    "print(mydict)"
   ]
  },
  {
   "cell_type": "code",
   "execution_count": 35,
   "metadata": {},
   "outputs": [
    {
     "name": "stdout",
     "output_type": "stream",
     "text": [
      "{1: 'apple', 9: 'cherry', 7: 'beetroot'}\n"
     ]
    }
   ],
   "source": [
    "mydict =  {1: \"apple\", 7:  \"beetroot\", 9: \"cherry\"}\n",
    "print(mydict)"
   ]
  },
  {
   "cell_type": "code",
   "execution_count": 37,
   "metadata": {},
   "outputs": [
    {
     "ename": "SyntaxError",
     "evalue": "keyword can't be an expression (<ipython-input-37-2e06b1374ba7>, line 1)",
     "output_type": "error",
     "traceback": [
      "\u001b[0;36m  File \u001b[0;32m\"<ipython-input-37-2e06b1374ba7>\"\u001b[0;36m, line \u001b[0;32m1\u001b[0m\n\u001b[0;31m    mydict = dict(1=\"apple\", 7=\"beetroot\", 9=\"cherry\")\u001b[0m\n\u001b[0m                 ^\u001b[0m\n\u001b[0;31mSyntaxError\u001b[0m\u001b[0;31m:\u001b[0m keyword can't be an expression\n"
     ]
    }
   ],
   "source": [
    "mydict = dict(1=\"apple\", 7=\"beetroot\", 9=\"cherry\")"
   ]
  },
  {
   "cell_type": "code",
   "execution_count": 43,
   "metadata": {},
   "outputs": [
    {
     "name": "stdout",
     "output_type": "stream",
     "text": [
      "{'el1': 'apple', 'el9': 'cherry', 'el7': 'beetroot'}\n"
     ]
    }
   ],
   "source": [
    "mydict = dict(el1=\"apple\", el7=\"beetroot\", el9=\"cherry\")\n",
    "print(mydict)"
   ]
  },
  {
   "cell_type": "code",
   "execution_count": 39,
   "metadata": {},
   "outputs": [
    {
     "name": "stdout",
     "output_type": "stream",
     "text": [
      "yes\n",
      "no\n",
      "no\n"
     ]
    }
   ],
   "source": [
    "mydict = {\"carnivore\": 17, \"vegetarian\": 2}\n",
    "if \"carnivore\" in mydict:\n",
    "    print(\"yes\")\n",
    "if \"piscetarian\" in mydict:\n",
    "    print(\"yes\")\n",
    "else:\n",
    "    print(\"no\")\n",
    "if 2 in  mydict:\n",
    "    print(\"yes\")\n",
    "else:\n",
    "    print(\"no\")"
   ]
  },
  {
   "cell_type": "code",
   "execution_count": 41,
   "metadata": {},
   "outputs": [
    {
     "name": "stdout",
     "output_type": "stream",
     "text": [
      "dict_keys(['carnivore', 'vegetarian'])\n",
      "dict_values([17, 2])\n"
     ]
    }
   ],
   "source": [
    "mydict = {\"carnivore\": 17, \"vegetarian\": 2}\n",
    "print(mydict.keys())\n",
    "print(mydict.values())"
   ]
  },
  {
   "cell_type": "code",
   "execution_count": 44,
   "metadata": {},
   "outputs": [
    {
     "name": "stdout",
     "output_type": "stream",
     "text": [
      "2\n"
     ]
    }
   ],
   "source": [
    "mydict = {\"carnivore\": 17, \"vegetarian\": 2}\n",
    "myval =  mydict[\"vegetarian\"]\n",
    "print(myval)"
   ]
  },
  {
   "cell_type": "code",
   "execution_count": 45,
   "metadata": {},
   "outputs": [
    {
     "ename": "KeyError",
     "evalue": "'aardvark'",
     "output_type": "error",
     "traceback": [
      "\u001b[0;31m---------------------------------------------------------------------------\u001b[0m",
      "\u001b[0;31mKeyError\u001b[0m                                  Traceback (most recent call last)",
      "\u001b[0;32m<ipython-input-45-86322b7a1177>\u001b[0m in \u001b[0;36m<module>\u001b[0;34m()\u001b[0m\n\u001b[1;32m      1\u001b[0m \u001b[0mmydict\u001b[0m \u001b[0;34m=\u001b[0m \u001b[0;34m{\u001b[0m\u001b[0;34m\"carnivore\"\u001b[0m\u001b[0;34m:\u001b[0m \u001b[0;36m17\u001b[0m\u001b[0;34m,\u001b[0m \u001b[0;34m\"vegetarian\"\u001b[0m\u001b[0;34m:\u001b[0m \u001b[0;36m2\u001b[0m\u001b[0;34m}\u001b[0m\u001b[0;34m\u001b[0m\u001b[0m\n\u001b[0;32m----> 2\u001b[0;31m \u001b[0mmyval\u001b[0m \u001b[0;34m=\u001b[0m \u001b[0mmydict\u001b[0m\u001b[0;34m[\u001b[0m\u001b[0;34m\"aardvark\"\u001b[0m\u001b[0;34m]\u001b[0m\u001b[0;34m\u001b[0m\u001b[0m\n\u001b[0m\u001b[1;32m      3\u001b[0m \u001b[0mprint\u001b[0m\u001b[0;34m(\u001b[0m\u001b[0mmyval\u001b[0m\u001b[0;34m)\u001b[0m\u001b[0;34m\u001b[0m\u001b[0m\n",
      "\u001b[0;31mKeyError\u001b[0m: 'aardvark'"
     ]
    }
   ],
   "source": [
    "mydict = {\"carnivore\": 17, \"vegetarian\": 2}\n",
    "myval = mydict[\"aardvark\"]\n",
    "print(myval)"
   ]
  },
  {
   "cell_type": "code",
   "execution_count": 49,
   "metadata": {},
   "outputs": [
    {
     "name": "stdout",
     "output_type": "stream",
     "text": [
      "3\n",
      "{'carnivore': 17, 'vegetarian': 3}\n"
     ]
    }
   ],
   "source": [
    "mydict = {\"carnivore\": 17, \"vegetarian\": 2}\n",
    "mydict[\"vegetarian\"] = 3\n",
    "myval =  mydict[\"vegetarian\"]\n",
    "print(myval)\n",
    "print(mydict)"
   ]
  },
  {
   "cell_type": "code",
   "execution_count": 50,
   "metadata": {},
   "outputs": [
    {
     "name": "stdout",
     "output_type": "stream",
     "text": [
      "23\n",
      "{'carnivore': 17, 'aardvark': 23, 'vegetarian': 2}\n"
     ]
    }
   ],
   "source": [
    "mydict = {\"carnivore\": 17, \"vegetarian\": 2}\n",
    "mydict[\"aardvark\"] = 23\n",
    "myval = mydict[\"aardvark\"]\n",
    "print(myval)\n",
    "print(mydict)"
   ]
  },
  {
   "cell_type": "code",
   "execution_count": 51,
   "metadata": {},
   "outputs": [
    {
     "name": "stdout",
     "output_type": "stream",
     "text": [
      "key: carnivore\n",
      "value: 17\n",
      "key: vegetarian\n",
      "value: 2\n"
     ]
    }
   ],
   "source": [
    "mydict = {\"carnivore\": 17, \"vegetarian\": 2}\n",
    "for key in mydict:\n",
    "    print(\"key:\", key)\n",
    "    print(\"value:\", mydict[key])"
   ]
  },
  {
   "cell_type": "code",
   "execution_count": 52,
   "metadata": {},
   "outputs": [
    {
     "name": "stdout",
     "output_type": "stream",
     "text": [
      "key: carnivore value: 17\n",
      "key: vegetarian value: 2\n"
     ]
    }
   ],
   "source": [
    "mydict = {\"carnivore\": 17, \"vegetarian\": 2}\n",
    "for (key, value) in mydict.items():\n",
    "    print(\"key:\", key, \"value:\", value)"
   ]
  },
  {
   "cell_type": "code",
   "execution_count": 54,
   "metadata": {},
   "outputs": [
    {
     "name": "stdout",
     "output_type": "stream",
     "text": [
      "{'hedgehogs': 15, 'beavers': 20}\n"
     ]
    }
   ],
   "source": [
    "mydata = [(\"beavers\", 20), (\"hedgehogs\", 15)]\n",
    "mydict = dict()\n",
    "for element in mydata:\n",
    "    key = element[0]\n",
    "    value = element[1]\n",
    "    mydict[key] = value\n",
    "print(mydict)"
   ]
  },
  {
   "cell_type": "code",
   "execution_count": 57,
   "metadata": {},
   "outputs": [
    {
     "name": "stdout",
     "output_type": "stream",
     "text": [
      "{'hedgehogs': 15, 'beavers': 20}\n"
     ]
    }
   ],
   "source": [
    "mydata = [(\"beavers\", 20), (\"hedgehogs\", 15)]\n",
    "mydict = dict()\n",
    "for (key, value) in mydata:\n",
    "    mydict[key] = value\n",
    "print(mydict)"
   ]
  },
  {
   "cell_type": "code",
   "execution_count": 56,
   "metadata": {},
   "outputs": [
    {
     "name": "stdout",
     "output_type": "stream",
     "text": [
      "{'hedgehogs': 15, 'beavers': 20}\n"
     ]
    }
   ],
   "source": [
    "myanimals = [\"beavers\", \"hedgehogs\"]\n",
    "mycounts = [20, 15]\n",
    "mydict = dict()\n",
    "for index in range(len(myanimals)):\n",
    "    key = myanimals[index]\n",
    "    value = mycounts[index]\n",
    "    mydict[key] = value\n",
    "print(mydict)"
   ]
  },
  {
   "cell_type": "code",
   "execution_count": null,
   "metadata": {},
   "outputs": [],
   "source": []
  }
 ],
 "metadata": {
  "kernelspec": {
   "display_name": "Python [anaconda3]",
   "language": "python",
   "name": "Python [anaconda3]"
  },
  "language_info": {
   "codemirror_mode": {
    "name": "ipython",
    "version": 3
   },
   "file_extension": ".py",
   "mimetype": "text/x-python",
   "name": "python",
   "nbconvert_exporter": "python",
   "pygments_lexer": "ipython3",
   "version": "3.5.4"
  }
 },
 "nbformat": 4,
 "nbformat_minor": 2
}
