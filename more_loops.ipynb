{
 "cells": [
  {
   "cell_type": "code",
   "execution_count": 3,
   "metadata": {},
   "outputs": [
    {
     "name": "stdout",
     "output_type": "stream",
     "text": [
      "1\n",
      "2\n",
      "3\n",
      "4\n",
      "5\n"
     ]
    }
   ],
   "source": [
    "%%bash\n",
    "# bash for loop\n",
    "for NUM in $(seq 1 5)\n",
    "do\n",
    "    echo $NUM\n",
    "done"
   ]
  },
  {
   "cell_type": "code",
   "execution_count": 5,
   "metadata": {},
   "outputs": [
    {
     "name": "stdout",
     "output_type": "stream",
     "text": [
      "1\n",
      "2\n",
      "3\n",
      "4\n",
      "5\n"
     ]
    }
   ],
   "source": [
    "for num in range(5):\n",
    "    new_num = num + 1\n",
    "    print(new_num)"
   ]
  },
  {
   "cell_type": "code",
   "execution_count": 6,
   "metadata": {},
   "outputs": [
    {
     "name": "stdout",
     "output_type": "stream",
     "text": [
      "5\n",
      "6\n",
      "7\n",
      "8\n",
      "9\n",
      "10\n"
     ]
    }
   ],
   "source": [
    "for num in range(5, 11):\n",
    "    print(num)"
   ]
  },
  {
   "cell_type": "code",
   "execution_count": 7,
   "metadata": {},
   "outputs": [
    {
     "name": "stdout",
     "output_type": "stream",
     "text": [
      "[5, 6, 7, 8, 9, 10]\n"
     ]
    }
   ],
   "source": [
    "numbers = [0, 1, 2, 3, 4, 5, 6, 7, 8, 9, 10, 11, 12, 13, 14, 15]\n",
    "print(numbers[5:11])"
   ]
  },
  {
   "cell_type": "code",
   "execution_count": 9,
   "metadata": {},
   "outputs": [
    {
     "name": "stdout",
     "output_type": "stream",
     "text": [
      "the type of range: <class 'range'>\n"
     ]
    }
   ],
   "source": [
    "print(\"the type of range:\", type(range(5, 11)))"
   ]
  },
  {
   "cell_type": "markdown",
   "metadata": {},
   "source": [
    "    # microsatellite example:\n",
    "    # CACACACA\n",
    "    # task:\n",
    "    # generate a microsatellite repeat of 'CA' \n",
    "    # with 8 repeats\n",
    "        repeat = new_repeat\n",
    "    print(repeat)\n",
    "    repeat = ''\n",
    "        new_repeat = repeat + 'CA'\n",
    "    for num in range(8):\n",
    "    # expected output:\n",
    "    # CACACACACACACACA"
   ]
  },
  {
   "cell_type": "code",
   "execution_count": 16,
   "metadata": {},
   "outputs": [
    {
     "name": "stdout",
     "output_type": "stream",
     "text": [
      "ATTAATTAATTAATTAATTAATTAATTAATTAATTAATTA\n",
      "ATTAATTAATTAATTAATTAATTAATTAATTAATTAATTA\n"
     ]
    }
   ],
   "source": [
    "# these two variables\n",
    "# are parameters\n",
    "num_copies = 10\n",
    "seq = 'ATTA'\n",
    "\n",
    "repeat = ''\n",
    "for num in range(num_copies):\n",
    "    new_repeat = repeat + seq\n",
    "    repeat = new_repeat\n",
    "print(repeat)\n",
    "print(seq * num_copies) # another way to do it"
   ]
  },
  {
   "cell_type": "markdown",
   "metadata": {},
   "source": [
    "    # exercise: population growth\n",
    "    # for population with size N at time t (i.e. N(t))\n",
    "    # and reproduction rate r\n",
    "    # then the size of the population at time t+1 is given by:\n",
    "    # N(t+1) = N(t) + r*N(t).\n",
    "    print(pop_size)\n",
    "        pop_size = new_pop_size\n",
    "    pop_size = 100\n",
    "    for num in range(10):\n",
    "    rate = 0.2\n",
    "    # expected output:\n",
    "    # 619.17364224"
   ]
  },
  {
   "cell_type": "code",
   "execution_count": 20,
   "metadata": {},
   "outputs": [
    {
     "name": "stdout",
     "output_type": "stream",
     "text": [
      "613\n"
     ]
    }
   ],
   "source": [
    "rate = 0.2\n",
    "pop_size = 100\n",
    "\n",
    "original_pop_size = pop_size\n",
    "for num in range(10):\n",
    "    new_pop_size = pop_size + int(pop_size * rate)\n",
    "    pop_size = new_pop_size\n",
    "print(pop_size)"
   ]
  },
  {
   "cell_type": "code",
   "execution_count": null,
   "metadata": {},
   "outputs": [],
   "source": []
  },
  {
   "cell_type": "code",
   "execution_count": null,
   "metadata": {},
   "outputs": [],
   "source": []
  }
 ],
 "metadata": {
  "kernelspec": {
   "display_name": "Python [Root]",
   "language": "python",
   "name": "Python [Root]"
  },
  "language_info": {
   "codemirror_mode": {
    "name": "ipython",
    "version": 3
   },
   "file_extension": ".py",
   "mimetype": "text/x-python",
   "name": "python",
   "nbconvert_exporter": "python",
   "pygments_lexer": "ipython3",
   "version": "3.5.4"
  }
 },
 "nbformat": 4,
 "nbformat_minor": 2
}
