{
 "cells": [
  {
   "cell_type": "code",
   "execution_count": 1,
   "metadata": {},
   "outputs": [],
   "source": [
    "# module documentation:\n",
    "# https://docs.python.org/3/library/re.html\n",
    "import re"
   ]
  },
  {
   "cell_type": "code",
   "execution_count": 2,
   "metadata": {},
   "outputs": [],
   "source": [
    "dna = \"AAGTGGTGTGAATTGCAAGATCCCGTGAACCATCGAGTCTTTTGAACGCAAGTTGCGCCCGAGGCCATCA\""
   ]
  },
  {
   "cell_type": "code",
   "execution_count": 4,
   "metadata": {},
   "outputs": [],
   "source": [
    "matches = re.search(\"AA.T\", dna)"
   ]
  },
  {
   "cell_type": "code",
   "execution_count": 8,
   "metadata": {},
   "outputs": [
    {
     "name": "stdout",
     "output_type": "stream",
     "text": [
      "0\n",
      "4\n",
      "(0, 4)\n",
      "AAGT\n"
     ]
    }
   ],
   "source": [
    "# print(matches)\n",
    "print(matches.start())\n",
    "print(matches.end())\n",
    "print(matches.span())\n",
    "print(matches.group(0)) # the text that was matched"
   ]
  },
  {
   "cell_type": "code",
   "execution_count": 9,
   "metadata": {},
   "outputs": [
    {
     "name": "stdout",
     "output_type": "stream",
     "text": [
      "AAGTGGTGT\n"
     ]
    }
   ],
   "source": [
    "matches = re.search(\"AA.*TGT\", dna)\n",
    "print(matches.group(0))"
   ]
  },
  {
   "cell_type": "code",
   "execution_count": 10,
   "metadata": {},
   "outputs": [
    {
     "name": "stdout",
     "output_type": "stream",
     "text": [
      "GA\n"
     ]
    }
   ],
   "source": [
    "dna = \"AAGTGGTGTGAATTGCAAGATCCCGTGAACCATCGAGTCTTTTGAACGCAAGTTGCGCCCGAGGCCATCA\"\n",
    "matches = re.search(\"GG*A\", dna)\n",
    "print(matches.group(0))"
   ]
  },
  {
   "cell_type": "code",
   "execution_count": 13,
   "metadata": {},
   "outputs": [
    {
     "name": "stdout",
     "output_type": "stream",
     "text": [
      "No match found\n"
     ]
    }
   ],
   "source": [
    "dna = \"AAGTGGTGTGAATTGCAAGATCCCGTGAACCATCGAGTCTTTTGAACGCAAGTTGCGCCCGAGGCCATCA\"\n",
    "matches = re.search(\"GG+A\", dna)\n",
    "if matches is not None:\n",
    "    print(matches.group(0))\n",
    "else:\n",
    "    print(\"No match found\")"
   ]
  },
  {
   "cell_type": "code",
   "execution_count": 15,
   "metadata": {},
   "outputs": [
    {
     "name": "stdout",
     "output_type": "stream",
     "text": [
      "CCCG\n"
     ]
    }
   ],
   "source": [
    "dna = \"AAGTGGTGTGAATTGCAAGATCCCGTGAACCATCGAGTCTTTTGAACGCAAGTTGCGCCCGAGGCCATCA\"\n",
    "matches = re.search(\"CC+G\", dna)\n",
    "if matches is not None:\n",
    "    print(matches.group(0))\n",
    "else:\n",
    "    print(\"No match found\")"
   ]
  },
  {
   "cell_type": "code",
   "execution_count": 22,
   "metadata": {},
   "outputs": [
    {
     "name": "stdout",
     "output_type": "stream",
     "text": [
      "one one thre\n"
     ]
    }
   ],
   "source": [
    "number_str = \"one eight one one three two one seven six\"\n",
    "matches = re.search(\"one (one )+....\", number_str)\n",
    "if matches is not None:\n",
    "    print(matches.group(0))\n",
    "else:\n",
    "    print(\"No match found\")"
   ]
  },
  {
   "cell_type": "code",
   "execution_count": 23,
   "metadata": {},
   "outputs": [
    {
     "name": "stdout",
     "output_type": "stream",
     "text": [
      "one one thre\n"
     ]
    }
   ],
   "source": [
    "number_str = \"one eight one one three two one seven six\"\n",
    "matches = re.search(\"one one +....\", number_str)\n",
    "if matches is not None:\n",
    "    print(matches.group(0))\n",
    "else:\n",
    "    print(\"No match found\")"
   ]
  },
  {
   "cell_type": "code",
   "execution_count": 26,
   "metadata": {},
   "outputs": [
    {
     "name": "stdout",
     "output_type": "stream",
     "text": [
      "AAGTGGTGTGAATTATATATATATCCATCGAGTCTTTTGAACGCAA\n"
     ]
    }
   ],
   "source": [
    "# test your regular expressions at\n",
    "# https://www.debuggex.com/\n",
    "# remember to set to Python mode\n",
    "def repeat_string(repeat, num_repeats):\n",
    "    result = ''\n",
    "    for num in range(num_repeats):\n",
    "        result = result + repeat\n",
    "    return result\n",
    "dna = 'AAGTGGTGTGAATT' + repeat_string('AT', 5) + 'CCATCGAGTCTTTTGAACGCAA'\n",
    "print(dna)"
   ]
  },
  {
   "cell_type": "code",
   "execution_count": 31,
   "metadata": {},
   "outputs": [
    {
     "name": "stdout",
     "output_type": "stream",
     "text": [
      "ATATATATAT (14, 24)\n"
     ]
    }
   ],
   "source": [
    "matches = re.search(\"AT(AT)+\", dna)\n",
    "if matches is not None:\n",
    "    print(matches.group(0), matches.span())\n",
    "else:\n",
    "    print(\"No match\")"
   ]
  },
  {
   "cell_type": "code",
   "execution_count": 33,
   "metadata": {},
   "outputs": [
    {
     "name": "stdout",
     "output_type": "stream",
     "text": [
      "ATATAT (14, 20)\n"
     ]
    }
   ],
   "source": [
    "matches = re.search(\"(AT){3}\", dna) # only matches 3 ATs\n",
    "if matches is not None:\n",
    "    print(matches.group(0), matches.span())\n",
    "else:\n",
    "    print(\"No match\")"
   ]
  },
  {
   "cell_type": "code",
   "execution_count": 37,
   "metadata": {},
   "outputs": [
    {
     "name": "stdout",
     "output_type": "stream",
     "text": [
      "a True\n",
      "t False\n"
     ]
    }
   ],
   "source": [
    "def is_vowel(char):\n",
    "    # regular expression character classes\n",
    "    # width 1\n",
    "    # matches anything between the brackets\n",
    "    matches = re.search(\"[aeiou]\", char.lower())\n",
    "    if matches is None:\n",
    "        return False\n",
    "    else:\n",
    "        return True\n",
    "print(\"a\", is_vowel(\"a\"))\n",
    "print(\"t\", is_vowel(\"t\"))"
   ]
  },
  {
   "cell_type": "code",
   "execution_count": 39,
   "metadata": {},
   "outputs": [
    {
     "name": "stdout",
     "output_type": "stream",
     "text": [
      "a False\n",
      "t True\n"
     ]
    }
   ],
   "source": [
    "def is_consonant(char):\n",
    "    # regular expression character classes\n",
    "    # width 1\n",
    "    # a ^ at the start of the character class\n",
    "    # reverses the meaning\n",
    "    # matches nothing between the brackets\n",
    "    matches = re.search(\"[^aeiou]\", char.lower())\n",
    "    if matches is None:\n",
    "        return False\n",
    "    else:\n",
    "        return True\n",
    "print(\"a\", is_consonant(\"a\"))\n",
    "print(\"t\", is_consonant(\"t\"))"
   ]
  },
  {
   "cell_type": "code",
   "execution_count": 41,
   "metadata": {},
   "outputs": [
    {
     "name": "stdout",
     "output_type": "stream",
     "text": [
      "gi|2765656|emb|Z78531.1|CFZ78531\n",
      "C.fasciculatum\n",
      "5.8S rRNA gene and ITS1 and ITS2 DNA\n"
     ]
    }
   ],
   "source": [
    "header = \">gi|2765656|emb|Z78531.1|CFZ78531 C.fasciculatum 5.8S rRNA gene and ITS1 and ITS2 DNA\"\n",
    "pattern = \">([^ ]+) ([^ ]+) (.*)\"\n",
    "matches = re.match(pattern, header) # match only at start of string\n",
    "if matches is not None:\n",
    "    print(matches.group(1))\n",
    "    print(matches.group(2))\n",
    "    print(matches.group(3))"
   ]
  },
  {
   "cell_type": "code",
   "execution_count": 42,
   "metadata": {},
   "outputs": [
    {
     "name": "stdout",
     "output_type": "stream",
     "text": [
      "pattern1 matches\n"
     ]
    }
   ],
   "source": [
    "mystring = \"one three one four one five\"\n",
    "pattern1 = \"^one three\" # ^ means start of the string\n",
    "pattern2 = \"^one four\"\n",
    "matches = re.search(pattern1, mystring)\n",
    "if matches:\n",
    "    print(\"pattern1 matches\")\n",
    "matches = re.search(pattern2, mystring)\n",
    "if matches:\n",
    "    print(\"pattern2 matches\")"
   ]
  },
  {
   "cell_type": "code",
   "execution_count": 43,
   "metadata": {},
   "outputs": [
    {
     "name": "stdout",
     "output_type": "stream",
     "text": [
      "pattern2 matches\n"
     ]
    }
   ],
   "source": [
    "mystring = \"one three one four one five\"\n",
    "pattern1 = \"one three$\" # $ means end of the string\n",
    "pattern2 = \"one five$\"\n",
    "matches = re.search(pattern1, mystring)\n",
    "if matches:\n",
    "    print(\"pattern1 matches\")\n",
    "matches = re.search(pattern2, mystring)\n",
    "if matches:\n",
    "    print(\"pattern2 matches\")"
   ]
  },
  {
   "cell_type": "code",
   "execution_count": 45,
   "metadata": {},
   "outputs": [
    {
     "name": "stdout",
     "output_type": "stream",
     "text": [
      "The\n"
     ]
    }
   ],
   "source": [
    "mystring = \"The moon jumped over the cow\"\n",
    "pattern1 = \"[A-Za-z]+\" # a character class with all letter\n",
    "matches = re.search(pattern1, mystring)\n",
    "print(matches.group(0))"
   ]
  },
  {
   "cell_type": "code",
   "execution_count": 46,
   "metadata": {},
   "outputs": [
    {
     "name": "stdout",
     "output_type": "stream",
     "text": [
      "The\n"
     ]
    }
   ],
   "source": [
    "mystring = \"The moon jumped over the cow\"\n",
    "pattern1 = \"\\w+\" # use the \\w character class\n",
    "matches = re.search(pattern1, mystring)\n",
    "print(matches.group(0))"
   ]
  },
  {
   "cell_type": "code",
   "execution_count": 47,
   "metadata": {},
   "outputs": [
    {
     "name": "stdout",
     "output_type": "stream",
     "text": [
      "99\n"
     ]
    }
   ],
   "source": [
    "mystring = \"The cow had 99 problems to solve\"\n",
    "pattern1 = \"\\d+\" # use the \\d character class: digits\n",
    "matches = re.search(pattern1, mystring)\n",
    "print(matches.group(0))"
   ]
  },
  {
   "cell_type": "code",
   "execution_count": null,
   "metadata": {},
   "outputs": [],
   "source": []
  }
 ],
 "metadata": {
  "kernelspec": {
   "display_name": "Python [Root]",
   "language": "python",
   "name": "Python [Root]"
  },
  "language_info": {
   "codemirror_mode": {
    "name": "ipython",
    "version": 3
   },
   "file_extension": ".py",
   "mimetype": "text/x-python",
   "name": "python",
   "nbconvert_exporter": "python",
   "pygments_lexer": "ipython3",
   "version": "3.5.4"
  }
 },
 "nbformat": 4,
 "nbformat_minor": 2
}
