{
 "cells": [
  {
   "cell_type": "code",
   "execution_count": 15,
   "metadata": {},
   "outputs": [],
   "source": [
    "from io import StringIO\n",
    "import requests\n",
    "from Bio import SeqIO"
   ]
  },
  {
   "cell_type": "code",
   "execution_count": 2,
   "metadata": {},
   "outputs": [],
   "source": [
    "url = 'https://raw.githubusercontent.com/pvanheus/biocourse2018_python/master/python_seq2.fasta'\n",
    "# requests: http://docs.python-requests.org/en/master/\n",
    "handle = requests.get(url)"
   ]
  },
  {
   "cell_type": "code",
   "execution_count": 4,
   "metadata": {},
   "outputs": [
    {
     "name": "stdout",
     "output_type": "stream",
     "text": [
      "<Response [200]> <class 'requests.models.Response'>\n"
     ]
    }
   ],
   "source": [
    "print(handle, type(handle))"
   ]
  },
  {
   "cell_type": "code",
   "execution_count": 5,
   "metadata": {},
   "outputs": [
    {
     "name": "stdout",
     "output_type": "stream",
     "text": [
      "Help on Response in module requests.models object:\n",
      "\n",
      "class Response(builtins.object)\n",
      " |  The :class:`Response <Response>` object, which contains a\n",
      " |  server's response to an HTTP request.\n",
      " |  \n",
      " |  Methods defined here:\n",
      " |  \n",
      " |  __bool__(self)\n",
      " |      Returns True if :attr:`status_code` is less than 400.\n",
      " |      \n",
      " |      This attribute checks if the status code of the response is between\n",
      " |      400 and 600 to see if there was a client error or a server error. If\n",
      " |      the status code, is between 200 and 400, this will return True. This\n",
      " |      is **not** a check to see if the response code is ``200 OK``.\n",
      " |  \n",
      " |  __enter__(self)\n",
      " |  \n",
      " |  __exit__(self, *args)\n",
      " |  \n",
      " |  __getstate__(self)\n",
      " |  \n",
      " |  __init__(self)\n",
      " |      Initialize self.  See help(type(self)) for accurate signature.\n",
      " |  \n",
      " |  __iter__(self)\n",
      " |      Allows you to use a response as an iterator.\n",
      " |  \n",
      " |  __nonzero__(self)\n",
      " |      Returns True if :attr:`status_code` is less than 400.\n",
      " |      \n",
      " |      This attribute checks if the status code of the response is between\n",
      " |      400 and 600 to see if there was a client error or a server error. If\n",
      " |      the status code, is between 200 and 400, this will return True. This\n",
      " |      is **not** a check to see if the response code is ``200 OK``.\n",
      " |  \n",
      " |  __repr__(self)\n",
      " |      Return repr(self).\n",
      " |  \n",
      " |  __setstate__(self, state)\n",
      " |  \n",
      " |  close(self)\n",
      " |      Releases the connection back to the pool. Once this method has been\n",
      " |      called the underlying ``raw`` object must not be accessed again.\n",
      " |      \n",
      " |      *Note: Should not normally need to be called explicitly.*\n",
      " |  \n",
      " |  iter_content(self, chunk_size=1, decode_unicode=False)\n",
      " |      Iterates over the response data.  When stream=True is set on the\n",
      " |      request, this avoids reading the content at once into memory for\n",
      " |      large responses.  The chunk size is the number of bytes it should\n",
      " |      read into memory.  This is not necessarily the length of each item\n",
      " |      returned as decoding can take place.\n",
      " |      \n",
      " |      chunk_size must be of type int or None. A value of None will\n",
      " |      function differently depending on the value of `stream`.\n",
      " |      stream=True will read data as it arrives in whatever size the\n",
      " |      chunks are received. If stream=False, data is returned as\n",
      " |      a single chunk.\n",
      " |      \n",
      " |      If decode_unicode is True, content will be decoded using the best\n",
      " |      available encoding based on the response.\n",
      " |  \n",
      " |  iter_lines(self, chunk_size=512, decode_unicode=None, delimiter=None)\n",
      " |      Iterates over the response data, one line at a time.  When\n",
      " |      stream=True is set on the request, this avoids reading the\n",
      " |      content at once into memory for large responses.\n",
      " |      \n",
      " |      .. note:: This method is not reentrant safe.\n",
      " |  \n",
      " |  json(self, **kwargs)\n",
      " |      Returns the json-encoded content of a response, if any.\n",
      " |      \n",
      " |      :param \\*\\*kwargs: Optional arguments that ``json.loads`` takes.\n",
      " |      :raises ValueError: If the response body does not contain valid json.\n",
      " |  \n",
      " |  raise_for_status(self)\n",
      " |      Raises stored :class:`HTTPError`, if one occurred.\n",
      " |  \n",
      " |  ----------------------------------------------------------------------\n",
      " |  Data descriptors defined here:\n",
      " |  \n",
      " |  __dict__\n",
      " |      dictionary for instance variables (if defined)\n",
      " |  \n",
      " |  __weakref__\n",
      " |      list of weak references to the object (if defined)\n",
      " |  \n",
      " |  apparent_encoding\n",
      " |      The apparent encoding, provided by the chardet library.\n",
      " |  \n",
      " |  content\n",
      " |      Content of the response, in bytes.\n",
      " |  \n",
      " |  is_permanent_redirect\n",
      " |      True if this Response one of the permanent versions of redirect.\n",
      " |  \n",
      " |  is_redirect\n",
      " |      True if this Response is a well-formed HTTP redirect that could have\n",
      " |      been processed automatically (by :meth:`Session.resolve_redirects`).\n",
      " |  \n",
      " |  links\n",
      " |      Returns the parsed header links of the response, if any.\n",
      " |  \n",
      " |  next\n",
      " |      Returns a PreparedRequest for the next request in a redirect chain, if there is one.\n",
      " |  \n",
      " |  ok\n",
      " |      Returns True if :attr:`status_code` is less than 400.\n",
      " |      \n",
      " |      This attribute checks if the status code of the response is between\n",
      " |      400 and 600 to see if there was a client error or a server error. If\n",
      " |      the status code, is between 200 and 400, this will return True. This\n",
      " |      is **not** a check to see if the response code is ``200 OK``.\n",
      " |  \n",
      " |  text\n",
      " |      Content of the response, in unicode.\n",
      " |      \n",
      " |      If Response.encoding is None, encoding will be guessed using\n",
      " |      ``chardet``.\n",
      " |      \n",
      " |      The encoding of the response content is determined based solely on HTTP\n",
      " |      headers, following RFC 2616 to the letter. If you can take advantage of\n",
      " |      non-HTTP knowledge to make a better guess at the encoding, you should\n",
      " |      set ``r.encoding`` appropriately before accessing this property.\n",
      " |  \n",
      " |  ----------------------------------------------------------------------\n",
      " |  Data and other attributes defined here:\n",
      " |  \n",
      " |  __attrs__ = ['_content', 'status_code', 'headers', 'url', 'history', '...\n",
      "\n"
     ]
    }
   ],
   "source": [
    "help(handle)"
   ]
  },
  {
   "cell_type": "code",
   "execution_count": 11,
   "metadata": {},
   "outputs": [
    {
     "name": "stdout",
     "output_type": "stream",
     "text": [
      "chunk: b'>ENA|AB177878|AB177878.1 Python regius mitochondrial DNA, complete genome. \\nGTTATTGTAGCTTACACCAAAGCACAGCACTGAAAATGCTGAGACGGTATTA'\n",
      "chunk: b'CACCCAAA\\n>ENA|AB385864|AB385864.1 Python regius WWP1 mRNA for WW domain containing E3 ubiquitin protein ligase 1, partial cds. \\n'\n",
      "chunk: b'CGAAATCAATTGCAGGGAGCTATGCAACAGTTTAACCAACGATACCTCTATTCGGCTTCA\\n>ENA|AB920233|AB920233.1 Python molurus mitochondrial COI gene for '\n",
      "chunk: b'cytochrome c oxidase subunit I, partial cds, isolate: PMO1. \\nCCCCGGACAATGGATTTTCTCACAGCACAAGATATCGGCACATTATACCTACTATTTGGT\\n>ENA|A'\n",
      "chunk: b'B920287|AB920287.1 Python molurus mitochondrial Cytb gene for cytochrome b, partial cds, isolate: PMO1. \\nATCCCATTCCACCCATACCACTC'\n",
      "chunk: b'ATACAAAGACCTACTCTTCCTAACCCTGATAATCCTA\\n>ENA|AF048710|AF048710.1 Python molurus clone PY1 Bov-B LINE repeat region, partial sequen'\n"
     ]
    }
   ],
   "source": [
    "# response objects are\n",
    "# True if the request succeeded\n",
    "# False if it failed\n",
    "handle = requests.get(url)\n",
    "if handle:\n",
    "    count = 0\n",
    "    for chunk in handle:\n",
    "        if count > 5:\n",
    "            break\n",
    "        print(\"chunk:\",chunk)\n",
    "        count = count + 1\n",
    "        "
   ]
  },
  {
   "cell_type": "code",
   "execution_count": 14,
   "metadata": {},
   "outputs": [
    {
     "name": "stdout",
     "output_type": "stream",
     "text": [
      "ID: ENA|AB177878|AB177878.1\n",
      "Name: ENA|AB177878|AB177878.1\n",
      "Description: ENA|AB177878|AB177878.1 Python regius mitochondrial DNA, complete genome.\n",
      "Number of features: 0\n",
      "Seq('GTTATTGTAGCTTACACCAAAGCACAGCACTGAAAATGCTGAGACGGTATTACACCCAAA', SingleLetterAlphabet())\n"
     ]
    }
   ],
   "source": [
    "from io import StringIO\n",
    "import requests\n",
    "from Bio import SeqIO\n",
    "\n",
    "url = 'https://raw.githubusercontent.com/pvanheus/biocourse2018_python/master/python_seq2.fasta'\n",
    "handle = requests.get(url)\n",
    "handle = requests.get(url)\n",
    "sequences = []\n",
    "if handle:\n",
    "    # use StringIO to turn a string into a \"file like object\" for SeqIO\n",
    "    web_handle =  StringIO(handle.text)\n",
    "    parser = SeqIO.parse(web_handle, \"fasta\")\n",
    "    for sequence_record in parser:\n",
    "        sequences.append(sequence_record)\n",
    "    print(sequences[0])"
   ]
  },
  {
   "cell_type": "code",
   "execution_count": 16,
   "metadata": {},
   "outputs": [
    {
     "name": "stdout",
     "output_type": "stream",
     "text": [
      "ENA|AB177878|AB177878.1 Python regius mitochondrial DNA, complete genome.\n",
      "ENA|AB385864|AB385864.1 Python regius WWP1 mRNA for WW domain containing E3 ubiquitin protein ligase 1, partial cds.\n",
      "ENA|AB920233|AB920233.1 Python molurus mitochondrial COI gene for cytochrome c oxidase subunit I, partial cds, isolate: PMO1.\n",
      "ENA|AB920287|AB920287.1 Python molurus mitochondrial Cytb gene for cytochrome b, partial cds, isolate: PMO1.\n",
      "ENA|AF048710|AF048710.1 Python molurus clone PY1 Bov-B LINE repeat region, partial sequence.\n",
      "ENA|AF048711|AF048711.1 Python molurus clone PY6 Bov-B LINE repeat region, partial sequence.\n",
      "ENA|AF072585|AF072585.1 Python regius L-lactate dehydrogenase M chain (LDH-A) mRNA, complete cds.\n",
      "ENA|AF072589|AF072589.1 Python regius alpha enolase mRNA, complete cds.\n",
      "ENA|AF134847|AF134847.1 Python regius ornithine transcarbamylase (otc) mRNA, partial cds.\n",
      "ENA|AF215277|AF215277.1 Python curtus 16S ribosomal RNA gene, partial sequence; mitochondrial.\n",
      "ENA|AF236682|AF236682.2 Python molurus 12S ribosomal RNA gene, partial sequence; mitochondrial gene for mitochondrial product.\n"
     ]
    }
   ],
   "source": [
    "count = 0\n",
    "for sequence_record in sequences:\n",
    "    if count > 10:\n",
    "        break\n",
    "    print(sequence_record.description)\n",
    "    count = count + 1"
   ]
  },
  {
   "cell_type": "code",
   "execution_count": 17,
   "metadata": {},
   "outputs": [
    {
     "name": "stdout",
     "output_type": "stream",
     "text": [
      "ENA|AB177878|AB177878.1 Python regius mitochondrial DNA, complete genome.\n",
      "ENA|AB385864|AB385864.1 Python regius WWP1 mRNA for WW domain containing E3 ubiquitin protein ligase 1, partial cds.\n",
      "ENA|AB920233|AB920233.1 Python molurus mitochondrial COI gene for cytochrome c oxidase subunit I, partial cds, isolate: PMO1.\n",
      "ENA|AB920287|AB920287.1 Python molurus mitochondrial Cytb gene for cytochrome b, partial cds, isolate: PMO1.\n",
      "ENA|AF048710|AF048710.1 Python molurus clone PY1 Bov-B LINE repeat region, partial sequence.\n",
      "ENA|AF048711|AF048711.1 Python molurus clone PY6 Bov-B LINE repeat region, partial sequence.\n",
      "ENA|AF072585|AF072585.1 Python regius L-lactate dehydrogenase M chain (LDH-A) mRNA, complete cds.\n",
      "ENA|AF072589|AF072589.1 Python regius alpha enolase mRNA, complete cds.\n",
      "ENA|AF134847|AF134847.1 Python regius ornithine transcarbamylase (otc) mRNA, partial cds.\n",
      "ENA|AF215277|AF215277.1 Python curtus 16S ribosomal RNA gene, partial sequence; mitochondrial.\n"
     ]
    }
   ],
   "source": [
    "for index in range(10):\n",
    "    print(sequences[index].description)"
   ]
  },
  {
   "cell_type": "code",
   "execution_count": 24,
   "metadata": {},
   "outputs": [
    {
     "name": "stdout",
     "output_type": "stream",
     "text": [
      "Python regius\n",
      "mitochondrial DNA, complete genome.\n",
      "Python regius\n",
      "WWP1 mRNA for WW domain containing E3 ubiquitin protein ligase 1, partial cds.\n",
      "Python molurus\n",
      "mitochondrial COI gene for cytochrome c oxidase subunit I, partial cds, isolate: PMO1.\n",
      "Python molurus\n",
      "mitochondrial Cytb gene for cytochrome b, partial cds, isolate: PMO1.\n",
      "Python molurus\n",
      "clone PY1 Bov-B LINE repeat region, partial sequence.\n",
      "Python molurus\n",
      "clone PY6 Bov-B LINE repeat region, partial sequence.\n"
     ]
    }
   ],
   "source": [
    "species_name_list = []\n",
    "count = 0\n",
    "for sequence_record in sequences:\n",
    "    if count > 5:\n",
    "        break\n",
    "    parts = sequence_record.description.split()\n",
    "#     species_name_parts = parts[1:3]\n",
    "#     species_name = \" \".join(species_name_parts)\n",
    "    species_name = parts[1] + \" \" + parts[2]\n",
    "    print(species_name)\n",
    "    sequence_description_parts = parts[3:]\n",
    "    sequence_description = \" \".join(sequence_description_parts)\n",
    "    print(sequence_description)\n",
    "    count += 1"
   ]
  },
  {
   "cell_type": "code",
   "execution_count": 37,
   "metadata": {},
   "outputs": [
    {
     "name": "stdout",
     "output_type": "stream",
     "text": [
      "{'hedgehog', 'duck', 'beaver'}\n",
      "I saw a duck\n",
      "No kudu was seen\n",
      "I saw a duck and put it in mylist\n",
      "result: None\n",
      "animals_seen: {'newt', 'hedgehog', 'duck', 'beaver'}\n",
      "number of elements in set: 4\n",
      "animals_seen now: {'newt', 'hedgehog', 'beaver'}\n"
     ]
    }
   ],
   "source": [
    "mylist = [\"beaver\", \"hedgehog\", \"beaver\", \"duck\"]\n",
    "animals_seen = set(mylist)\n",
    "print(animals_seen)\n",
    "# time taken by \"in\" for sets is O(1)\n",
    "if \"duck\" in animals_seen:\n",
    "    print(\"I saw a duck\")\n",
    "else:\n",
    "    print(\"No duck was seen\")\n",
    "if \"kudu\" in animals_seen:\n",
    "    print(\"I saw a kudu\")\n",
    "else:\n",
    "    print(\"No kudu was seen\")\n",
    "# time taken by \"in\" for lists is O(n) for list of length n\n",
    "if \"duck\" in mylist:\n",
    "    print(\"I saw a duck and put it in mylist\")\n",
    "# add is an in-place update\n",
    "# like append for lists\n",
    "result = animals_seen.add(\"newt\")\n",
    "print(\"result:\", result)\n",
    "print(\"animals_seen:\", animals_seen)\n",
    "number_of_items = len(animals_seen)\n",
    "print(\"number of elements in set:\", number_of_items)\n",
    "animals_seen.remove(\"duck\")\n",
    "print('animals_seen now:', animals_seen)"
   ]
  },
  {
   "cell_type": "code",
   "execution_count": 64,
   "metadata": {},
   "outputs": [
    {
     "name": "stdout",
     "output_type": "stream",
     "text": [
      "Python anchietae\n",
      "Python bivittatus\n",
      "Python brongersmai\n",
      "Python curtus\n",
      "Python molurus\n",
      "Python regius\n",
      "Python sebae\n",
      "\n",
      "Alternatively:\n",
      "Python anchietae\n",
      "Python bivittatus\n",
      "Python brongersmai\n",
      "Python curtus\n",
      "Python molurus\n",
      "Python regius\n",
      "Python sebae\n"
     ]
    }
   ],
   "source": [
    "species_name_list = []\n",
    "count = 0\n",
    "python_species_set = set()\n",
    "bad_names = set([\"JP 2016144416-A/9:\", \"WO 2016125885-A/9:\",\n",
    "            \"Sequence 7\", \"Sequence 4217\"])\n",
    "for sequence_record in sequences:\n",
    "#     if count > 5:\n",
    "#         break\n",
    "    parts = sequence_record.description.split()\n",
    "#     species_name_parts = parts[1:3]\n",
    "#     species_name = \" \".join(species_name_parts)\n",
    "    species_name = parts[1] + \" \" + parts[2]\n",
    "#     if species_name not in bad_names:\n",
    "#         python_species_set.add(species_name)\n",
    "    if parts[1] == 'Python':\n",
    "        python_species_set.add(species_name)\n",
    "        #     if parts[1] == 'Sequence':\n",
    "#         print(sequence_record.description)\n",
    "#     sequence_description_parts = parts[3:]\n",
    "#     sequence_description = \" \".join(sequence_description_parts)\n",
    "#     print(sequence_description)\n",
    "    count += 1\n",
    "# print(count)\n",
    "# print(python_species_set)\n",
    "species_name_list = list(python_species_set)\n",
    "species_name_list.sort()\n",
    "for species_name in species_name_list:\n",
    "    print(species_name)\n",
    "print(\"\\nAlternatively:\")\n",
    "for species_name in sorted(species_name_list):\n",
    "    print(species_name)"
   ]
  },
  {
   "cell_type": "code",
   "execution_count": null,
   "metadata": {},
   "outputs": [],
   "source": []
  }
 ],
 "metadata": {
  "kernelspec": {
   "display_name": "Python [Root]",
   "language": "python",
   "name": "Python [Root]"
  },
  "language_info": {
   "codemirror_mode": {
    "name": "ipython",
    "version": 3
   },
   "file_extension": ".py",
   "mimetype": "text/x-python",
   "name": "python",
   "nbconvert_exporter": "python",
   "pygments_lexer": "ipython3",
   "version": "3.5.4"
  }
 },
 "nbformat": 4,
 "nbformat_minor": 2
}
