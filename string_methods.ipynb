{
 "cells": [
  {
   "cell_type": "code",
   "execution_count": 6,
   "metadata": {},
   "outputs": [],
   "source": [
    "dna = 'TTGACCGATGAccccggttCAGGCTTCACCACAGTGTGGAACGCGG'"
   ]
  },
  {
   "cell_type": "code",
   "execution_count": 7,
   "metadata": {},
   "outputs": [
    {
     "name": "stdout",
     "output_type": "stream",
     "text": [
      "lowercase: ttgaccgatgaccccggttcaggcttcaccacagtgtggaacgcgg\n",
      "uppercase: TTGACCGATGACCCCGGTTCAGGCTTCACCACAGTGTGGAACGCGG\n"
     ]
    }
   ],
   "source": [
    "# case manipulation\n",
    "print(\"lowercase:\", dna.lower())\n",
    "print(\"uppercase:\", dna.upper())"
   ]
  },
  {
   "cell_type": "code",
   "execution_count": 11,
   "metadata": {},
   "outputs": [
    {
     "name": "stdout",
     "output_type": "stream",
     "text": [
      "is ATGA in dna? True\n",
      "is ATGACC in dna? True\n"
     ]
    }
   ],
   "source": [
    "print(\"is ATGA in dna?\", \"ATGA\" in dna)\n",
    "print(\"is ATGACC in dna?\", \"ATGACC\" in dna.upper())"
   ]
  },
  {
   "cell_type": "code",
   "execution_count": 15,
   "metadata": {},
   "outputs": [
    {
     "name": "stdout",
     "output_type": "stream",
     "text": [
      "The motif TT occurs 3 times\n",
      "The substring CC occurs 4 times\n"
     ]
    }
   ],
   "source": [
    "uppercase_dna = dna.upper()\n",
    "print(\"The motif TT occurs\", uppercase_dna.count('TT'), 'times')\n",
    "search_string = 'CC'\n",
    "match_count = uppercase_dna.count(search_string)\n",
    "print(\"The substring {} occurs {} times\".format(search_string,\n",
    "                                                match_count))"
   ]
  },
  {
   "cell_type": "code",
   "execution_count": null,
   "metadata": {},
   "outputs": [],
   "source": [
    "    total_bases = a_count + t_count + g_count + c_count\n",
    "uc_dna = dna.upper()\n",
    "    a_count = dna.count('A')\n",
    "def gc_percentage(dna):\n",
    "    total_bases = a_count + t_count + g_count + c_count\n",
    "    return round(gc_perc)\n",
    "    gc_perc = gc_fraction * 100\n",
    "    g_count = dna.count('G')\n",
    "    c_count = dna.count('C')\n",
    "    gc_fraction = (g_count + c_count) / total_bases\n",
    "    t_count = dna.count('T')\n"
   ]
  },
  {
   "cell_type": "code",
   "execution_count": 19,
   "metadata": {},
   "outputs": [
    {
     "name": "stdout",
     "output_type": "stream",
     "text": [
      "61\n"
     ]
    }
   ],
   "source": [
    "dna = 'TTGACCGATGAccccggttCAGGCTTCACCACAGTGTGGAACGCGG'\n",
    "print(gc_percentage(dna))\n",
    "# expected answer: 61"
   ]
  },
  {
   "cell_type": "code",
   "execution_count": 16,
   "metadata": {},
   "outputs": [],
   "source": [
    "def gc_percentage(dna):\n",
    "    dna = dna.upper()\n",
    "    a_count = dna.count('A')\n",
    "    g_count = dna.count('G')\n",
    "    c_count = dna.count('C')\n",
    "    t_count = dna.count('T')\n",
    "    total_bases = a_count + t_count + g_count + c_count\n",
    "    # total_bases = len(dna) - this would count Ns as well - don't use\n",
    "    gc_fraction = (g_count + c_count) / total_bases\n",
    "    gc_perc = gc_fraction * 100\n",
    "    return round(gc_perc)\n",
    "    "
   ]
  },
  {
   "cell_type": "code",
   "execution_count": 18,
   "metadata": {},
   "outputs": [],
   "source": [
    "def gc_percentage(dna):\n",
    "    uc_dna = dna.upper()\n",
    "    bases = 'ACTG'\n",
    "    total_bases = 0\n",
    "    gc_count = 0\n",
    "    for base in bases:\n",
    "        total_bases = total_bases + uc_dna.count(base)\n",
    "        if base in 'GC':\n",
    "            gc_count = gc_count + uc_dna.count(base)\n",
    "    gc_fraction = gc_count / total_bases\n",
    "    gc_perc = gc_fraction * 100\n",
    "    return round(gc_perc)"
   ]
  },
  {
   "cell_type": "code",
   "execution_count": 20,
   "metadata": {},
   "outputs": [],
   "source": [
    "uc_dna = 'TTGACCGATGACCCCGGTTCAGGCTTCACCACAGTGTGGAACGCGG'"
   ]
  },
  {
   "cell_type": "code",
   "execution_count": 21,
   "metadata": {},
   "outputs": [
    {
     "data": {
      "text/plain": [
       "15"
      ]
     },
     "execution_count": 21,
     "metadata": {},
     "output_type": "execute_result"
    }
   ],
   "source": [
    "uc_dna.find('GGTT')"
   ]
  },
  {
   "cell_type": "code",
   "execution_count": 22,
   "metadata": {},
   "outputs": [
    {
     "data": {
      "text/plain": [
       "'GGTTCAGGCTTCACCACAGTGTGGAACGCGG'"
      ]
     },
     "execution_count": 22,
     "metadata": {},
     "output_type": "execute_result"
    }
   ],
   "source": [
    "uc_dna[15:]"
   ]
  },
  {
   "cell_type": "code",
   "execution_count": 23,
   "metadata": {},
   "outputs": [
    {
     "data": {
      "text/plain": [
       "-1"
      ]
     },
     "execution_count": 23,
     "metadata": {},
     "output_type": "execute_result"
    }
   ],
   "source": [
    "uc_dna.find('GATACCA')"
   ]
  },
  {
   "cell_type": "code",
   "execution_count": 27,
   "metadata": {},
   "outputs": [
    {
     "name": "stdout",
     "output_type": "stream",
     "text": [
      "GGTT\n"
     ]
    }
   ],
   "source": [
    "uc_dna = 'TTGACCGATGACCCCGGTTCAGGCTTCACCACAGTGTGGAACGCGG'\n",
    "start_loc = uc_dna.find('GGTT')\n",
    "end_loc = start_loc + 4\n",
    "print(uc_dna[start_loc:end_loc])"
   ]
  },
  {
   "cell_type": "code",
   "execution_count": 30,
   "metadata": {},
   "outputs": [
    {
     "name": "stdout",
     "output_type": "stream",
     "text": [
      "CCGAT\n"
     ]
    }
   ],
   "source": [
    "uc_dna = 'TTGACCGATGACCCCGGTTCAGGCTTCACCACAGTGTGGAACGCGG'\n",
    "motif = 'CCGAT'\n",
    "start_loc = uc_dna.find(motif)\n",
    "end_loc = start_loc + len(motif)\n",
    "print(uc_dna[start_loc:end_loc])"
   ]
  },
  {
   "cell_type": "code",
   "execution_count": 39,
   "metadata": {},
   "outputs": [
    {
     "name": "stdout",
     "output_type": "stream",
     "text": [
      "GACCGATGA\n",
      "Motif not found: GATTACA\n",
      "\n",
      "Forced to truncate flanking region at start\n",
      "TTGACCGAT\n"
     ]
    }
   ],
   "source": [
    "def snip(dna, motif, flanking):\n",
    "    \"\"\"snip: return the dna of motif and flanking bases\n",
    "    Params:\n",
    "    dna - DNA (upper or lower case)\n",
    "    motif - motif to search for\n",
    "    flanking - the number of flanking bases to return\n",
    "    Returns the motif with flanking bases or\n",
    "    an empty string if motif is not found\"\"\"\n",
    "    uc_dna = dna.upper()\n",
    "    start_loc = uc_dna.find(motif)\n",
    "    if start_loc == -1:\n",
    "        print(\"Motif not found:\", motif)\n",
    "        return ''\n",
    "    end_loc = start_loc + len(motif)\n",
    "    flanking_start_loc = start_loc - flanking\n",
    "    if flanking_start_loc < 0:\n",
    "        print(\"Forced to truncate flanking region at start\")\n",
    "        flanking_start_loc = 0\n",
    "    flanking_end_loc = end_loc + flanking\n",
    "    if flanking_end_loc > len(dna) + 1:\n",
    "        print(\"Forced to truncate flanking region at end\")\n",
    "        # flanking_end_loc = len(dna) # not necessary\n",
    "    result = uc_dna[flanking_start_loc:flanking_end_loc] \n",
    "    return result\n",
    "    \n",
    "print(snip(dna, 'CCGAT', 2)) \n",
    "print(snip(dna, 'GATTACA', 1))\n",
    "print(snip(dna, 'GACC', 3))"
   ]
  },
  {
   "cell_type": "code",
   "execution_count": null,
   "metadata": {},
   "outputs": [],
   "source": []
  }
 ],
 "metadata": {
  "kernelspec": {
   "display_name": "Python [Root]",
   "language": "python",
   "name": "Python [Root]"
  },
  "language_info": {
   "codemirror_mode": {
    "name": "ipython",
    "version": 3
   },
   "file_extension": ".py",
   "mimetype": "text/x-python",
   "name": "python",
   "nbconvert_exporter": "python",
   "pygments_lexer": "ipython3",
   "version": "3.5.4"
  }
 },
 "nbformat": 4,
 "nbformat_minor": 2
}
